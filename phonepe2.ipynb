{
 "cells": [
  {
   "cell_type": "code",
   "execution_count": 1,
   "metadata": {},
   "outputs": [],
   "source": [
    "import pandas as pd\n",
    "import pymysql\n",
    "import plotly.express as px\n",
    "import requests\n",
    "import json\n",
    "import streamlit as st\n"
   ]
  },
  {
   "cell_type": "code",
   "execution_count": 131,
   "metadata": {},
   "outputs": [],
   "source": [
    "#dataframe creation\n",
    "\n",
    "mydb=pymysql.connect(host=\"localhost\",\n",
    "                     user=\"root\",\n",
    "                     port=3306,\n",
    "                     database=\"phonepe_data\",\n",
    "                     password=\"1234\")\n",
    "\n",
    "cursor=mydb.cursor()\n",
    "\n",
    "\n",
    "#aggregate_transaction_df\n",
    "cursor.execute(\"select * from aggregated_transaction\")\n",
    "mydb.commit()\n",
    "table1=cursor.fetchall()\n",
    "\n",
    "aggre_transaction=pd.DataFrame(table1,columns=(\"States\",\"years\",\"Quarter\",\"Transaction_type\",\"Transaction_count\",\"Transaction_amount\"))\n",
    "\n",
    "#aggregate_user_df\n",
    "cursor.execute(\"select * from aggregated_user\")\n",
    "mydb.commit()\n",
    "table2=cursor.fetchall()\n",
    "\n",
    "aggre_user=pd.DataFrame(table2,columns=(\"States\",\"years\",\"Quarter\",\"Brands\",\"Transaction_count\",\"percentage\"))\n",
    "\n",
    "#map_transaction_df\n",
    "cursor.execute(\"select * from mapped_transaction\")\n",
    "mydb.commit()\n",
    "table3=cursor.fetchall()\n",
    "\n",
    "map_transaction=pd.DataFrame(table3,columns=(\"States\",\"years\",\"Quarter\",\"Districts\",\"Transaction_count\",\"Transaction_amount\"))\n",
    "\n",
    "\n",
    "#map_user_df\n",
    "cursor.execute(\"select * from mapped_user\")\n",
    "mydb.commit()\n",
    "table4=cursor.fetchall()\n",
    "\n",
    "map_user=pd.DataFrame(table4,columns=(\"States\",\"years\",\"Quarter\",\"Districts\",\"registeredUsers\",\"appOpens\"))\n",
    "\n",
    "\n",
    "#top_transaction_df\n",
    "cursor.execute(\"select * from topped_transaction\")\n",
    "mydb.commit()\n",
    "table5=cursor.fetchall()\n",
    "\n",
    "top_transaction=pd.DataFrame(table5,columns=(\"States\",\"years\",\"Quarter\",\"pincodes\",\"Transaction_count\",\"Transaction_amount\"))\n",
    "\n",
    "#top_user_df\n",
    "cursor.execute(\"select * from topped_users\")\n",
    "mydb.commit()\n",
    "table6=cursor.fetchall()\n",
    "\n",
    "top_users=pd.DataFrame(table6,columns=(\"States\",\"years\",\"Quarter\",\"pincodes\",\"registeredUsers\"))\n",
    "\n",
    "\n",
    "\n"
   ]
  },
  {
   "cell_type": "code",
   "execution_count": 8,
   "metadata": {},
   "outputs": [],
   "source": [
    "#TOP CHART TRANSACTION AMOUNT\n",
    "def top_chart_transaction_amount(table_name):\n",
    "    mydb=pymysql.connect(host=\"localhost\",\n",
    "                        user=\"root\",\n",
    "                        port=3306,\n",
    "                        database=\"phonepe_data\",\n",
    "                        password=\"1234\")\n",
    "\n",
    "    cursor=mydb.cursor()\n",
    "\n",
    "    #plot 1\n",
    "    query1= f'''select States,sum(Transaction_amount) as Transaction_amount from {table_name}\n",
    "                group by States\n",
    "                order by Transaction_amount DESC\n",
    "                limit 10;'''\n",
    "\n",
    "    cursor.execute(query1)\n",
    "    table=cursor.fetchall()\n",
    "    mydb.commit()\n",
    "\n",
    "    df_1=pd.DataFrame(table,columns=(\"States\",\"Transaction_amount\"))\n",
    "\n",
    "    fig_amount1=px.bar(df_1,x=\"States\",y=\"Transaction_amount\",title= \"TRANSACTION_AMOUNT\",hover_name=\"States\",\n",
    "                    color_discrete_sequence=px.colors.sequential.Aggrnyl,height=650,width=600)\n",
    "    fig_amount1.show()\n",
    "\n",
    "    #plot 2\n",
    "    query2=f'''select States,sum(Transaction_amount) as Transaction_amount from {table_name}\n",
    "                group by States\n",
    "                order by Transaction_amount\n",
    "                limit 10;'''\n",
    "\n",
    "    cursor.execute(query2)\n",
    "    table=cursor.fetchall()\n",
    "    mydb.commit()\n",
    "\n",
    "    df_2=pd.DataFrame(table,columns=(\"States\",\"Transaction_amount\"))\n",
    "\n",
    "    fig_amount2=px.bar(df_2,x=\"States\",y=\"Transaction_amount\",title= \"TRANSACTION_AMOUNT\",hover_name=\"States\",\n",
    "                    color_discrete_sequence=px.colors.sequential.Aggrnyl_r,height=650,width=600)\n",
    "    fig_amount2.show()\n",
    "\n",
    "    #plot 3\n",
    "    query3='''select States, AVG(Transaction_amount) as Transaction_amount from {table_name}\n",
    "                group by States\n",
    "                order by Transaction_amount;'''\n",
    "\n",
    "    cursor.execute(query3)\n",
    "    table=cursor.fetchall()\n",
    "    mydb.commit()\n",
    "\n",
    "    df_3=pd.DataFrame(table,columns=(\"States\",\"Transaction_amount\"))\n",
    "\n",
    "    fig_amount3=px.bar(df_3,x=\"Transaction_amount\",y=\"States\",title= \"TRANSACTION_AMOUNT\",hover_name=\"States\",orientation=\"h\",\n",
    "                    color_discrete_sequence=px.colors.sequential.Bluered_r,height=650,width=600)\n",
    "    fig_amount3.show()\n",
    "\n",
    "\n",
    "\n",
    "\n",
    "\n",
    "\n"
   ]
  },
  {
   "cell_type": "code",
   "execution_count": 11,
   "metadata": {},
   "outputs": [],
   "source": [
    "\n",
    "#TOP CHART TRANSACTION COUNT\n",
    "def top_chart_transaction_count(table_name):\n",
    "    mydb=pymysql.connect(host=\"localhost\",\n",
    "                        user=\"root\",\n",
    "                        port=3306,\n",
    "                        database=\"phonepe_data\",\n",
    "                        password=\"1234\")\n",
    "\n",
    "    cursor=mydb.cursor()\n",
    "\n",
    "    #plot 1\n",
    "    query1= f'''select States,sum(Transaction_count) as Transaction_count from {table_name}\n",
    "                group by States\n",
    "                order by Transaction_count DESC\n",
    "                limit 10;'''\n",
    "\n",
    "    cursor.execute(query1)\n",
    "    table=cursor.fetchall()\n",
    "    mydb.commit()\n",
    "\n",
    "    df_1=pd.DataFrame(table,columns=(\"States\",\"Transaction_count\"))\n",
    "\n",
    "    fig_amount1=px.bar(df_1,x=\"States\",y=\"Transaction_count\",title= \"TRANSACTION COUNT\",hover_name=\"States\",\n",
    "                    color_discrete_sequence=px.colors.sequential.Aggrnyl,height=650,width=600)\n",
    "    fig_amount1.show()\n",
    "\n",
    "    #plot 2\n",
    "    query2=f'''select States,sum(Transaction_count) as Transaction_count from {table_name}\n",
    "                group by States\n",
    "                order by Transaction_count\n",
    "                limit 10;'''\n",
    "\n",
    "    cursor.execute(query2)\n",
    "    table=cursor.fetchall()\n",
    "    mydb.commit()\n",
    "\n",
    "    df_2=pd.DataFrame(table,columns=(\"States\",\"Transaction_count\"))\n",
    "\n",
    "    fig_amount2=px.bar(df_2,x=\"States\",y=\"Transaction_count\",title= \"TRANSACTION COUNT\",hover_name=\"States\",\n",
    "                    color_discrete_sequence=px.colors.sequential.Aggrnyl_r,height=650,width=600)\n",
    "    fig_amount2.show()\n",
    "\n",
    "    #plot 3\n",
    "    query3=f'''select States, AVG(Transaction_count) as Transaction_count from {table_name}\n",
    "                group by States\n",
    "                order by Transaction_count;'''\n",
    "\n",
    "    cursor.execute(query3)\n",
    "    table=cursor.fetchall()\n",
    "    mydb.commit()\n",
    "\n",
    "    df_3=pd.DataFrame(table,columns=(\"States\",\"Transaction_count\"))\n",
    "\n",
    "    fig_amount3=px.bar(df_3,x=\"Transaction_count\",y=\"States\",title=\"TRANSACTION COUNT\",hover_name=\"States\",orientation=\"h\",\n",
    "                    color_discrete_sequence=px.colors.sequential.Bluered_r,height=800,width=1000)\n",
    "    fig_amount3.show()\n",
    "\n",
    "\n",
    "\n",
    "\n",
    "\n",
    "\n"
   ]
  },
  {
   "cell_type": "code",
   "execution_count": 16,
   "metadata": {},
   "outputs": [],
   "source": [
    "#TOP CHART REGISTEREDUSERS ANALYSIS\n",
    "\n",
    "def top_chart_registered_user(table_name,state):\n",
    "    mydb=pymysql.connect(host=\"localhost\",\n",
    "                        user=\"root\",\n",
    "                        port=3306,\n",
    "                        database=\"phonepe_data\",\n",
    "                        password=\"1234\")\n",
    "\n",
    "    cursor=mydb.cursor()\n",
    "\n",
    "    #plot 1\n",
    "    query1= f'''select Districts,sum(registeredUsers) as registeredUsers\n",
    "                from {table_name}\n",
    "                where States='{state}'\n",
    "                group by Districts\n",
    "                order by registeredUsers DESC\n",
    "                limit 10;'''\n",
    "\n",
    "    cursor.execute(query1)\n",
    "    table=cursor.fetchall()\n",
    "    mydb.commit()\n",
    "\n",
    "    df_1=pd.DataFrame(table,columns=(\"Districts\",\"registeredUsers\"))\n",
    "\n",
    "    fig_amount1=px.bar(df_1,x=\"Districts\",y=\"registeredUsers\",title= \"TOP 1O OF REGISTEREDUSERS\",hover_name=\"Districts\",\n",
    "                    color_discrete_sequence=px.colors.sequential.Aggrnyl,height=650,width=600)\n",
    "    fig_amount1.show()\n",
    "\n",
    "    #plot 2\n",
    "    query2=f'''select Districts,sum(registeredUsers) as registeredUsers\n",
    "                from {table_name}\n",
    "                where States='{state}'\n",
    "                group by Districts\n",
    "                order by registeredUsers \n",
    "                limit 10;'''\n",
    "\n",
    "    cursor.execute(query2)\n",
    "    table=cursor.fetchall()\n",
    "    mydb.commit()\n",
    "\n",
    "    df_2=pd.DataFrame(table,columns=(\"Districts\",\"registeredUsers\"))\n",
    "\n",
    "    fig_amount2=px.bar(df_2,x=\"Districts\",y=\"registeredUsers\",title= \"LAST 10 OF REGISTEREDUSERS\",hover_name=\"Districts\",\n",
    "                    color_discrete_sequence=px.colors.sequential.Aggrnyl_r,height=650,width=600)\n",
    "    fig_amount2.show()\n",
    "\n",
    "    #plot 3\n",
    "    query3=f'''select Districts,AVG(registeredUsers) as registeredUsers\n",
    "                from {table_name}\n",
    "                where States='{state}'\n",
    "                group by Districts\n",
    "                order by registeredUsers'''\n",
    "\n",
    "    cursor.execute(query3)\n",
    "    table=cursor.fetchall()\n",
    "    mydb.commit()\n",
    "\n",
    "    df_3=pd.DataFrame(table,columns=(\"Districts\",\"registeredUsers\"))\n",
    "\n",
    "    fig_amount3=px.bar(df_3,x=\"registeredUsers\",y=\"Districts\",title=\"AVG OF REGISTERED USERS\",hover_name=\"Districts\",orientation=\"h\",\n",
    "                    color_discrete_sequence=px.colors.sequential.Bluered_r,height=800,width=1000)\n",
    "    fig_amount3.show()\n",
    "\n",
    "\n",
    "\n"
   ]
  },
  {
   "cell_type": "code",
   "execution_count": null,
   "metadata": {},
   "outputs": [],
   "source": [
    "#TOP CHART AppOpens ANALYSIS\n",
    "\n",
    "def top_chart_AppOpens(table_name,state):\n",
    "    mydb=pymysql.connect(host=\"localhost\",\n",
    "                        user=\"root\",\n",
    "                        port=3306,\n",
    "                        database=\"phonepe_data\",\n",
    "                        password=\"1234\")\n",
    "\n",
    "    cursor=mydb.cursor()\n",
    "\n",
    "    #plot 1\n",
    "    query1= f'''select Districts,sum(AppOpens) as AppOpens\n",
    "                from {table_name}\n",
    "                where States='{state}'\n",
    "                group by Districts\n",
    "                order by AppOpens DESC\n",
    "                limit 10;'''\n",
    "\n",
    "    cursor.execute(query1)\n",
    "    table=cursor.fetchall()\n",
    "    mydb.commit()\n",
    "\n",
    "    df_1=pd.DataFrame(table,columns=(\"Districts\",\"AppOpens\"))\n",
    "\n",
    "    fig_amount1=px.bar(df_1,x=\"Districts\",y=\"AppOpens\",title= \"TOP 1O OF AppOpens\",hover_name=\"Districts\",\n",
    "                    color_discrete_sequence=px.colors.sequential.Aggrnyl,height=650,width=600)\n",
    "    fig_amount1.show()\n",
    "\n",
    "    #plot 2\n",
    "    query2=f'''select Districts,sum(AppOpens) as AppOpens\n",
    "                from {table_name}\n",
    "                where States='{state}'\n",
    "                group by Districts\n",
    "                order by AppOpens \n",
    "                limit 10;'''\n",
    "\n",
    "    cursor.execute(query2)\n",
    "    table=cursor.fetchall()\n",
    "    mydb.commit()\n",
    "\n",
    "    df_2=pd.DataFrame(table,columns=(\"Districts\",\"AppOpens\"))\n",
    "\n",
    "    fig_amount2=px.bar(df_2,x=\"Districts\",y=\"AppOpens\",title= \"LAST 10 OF AppOpens\",hover_name=\"Districts\",\n",
    "                    color_discrete_sequence=px.colors.sequential.Aggrnyl_r,height=650,width=600)\n",
    "    fig_amount2.show()\n",
    "\n",
    "    #plot 3\n",
    "    query3=f'''select Districts,AVG(AppOpens) as AppOpens\n",
    "                from {table_name}\n",
    "                where States='{state}'\n",
    "                group by Districts\n",
    "                order by AppOpens'''\n",
    "\n",
    "    cursor.execute(query3)\n",
    "    table=cursor.fetchall()\n",
    "    mydb.commit()\n",
    "\n",
    "    df_3=pd.DataFrame(table,columns=(\"Districts\",\"AppOpens\"))\n",
    "\n",
    "    fig_amount3=px.bar(df_3,x=\"AppOpens\",y=\"Districts\",title=\"AVG OF AppOpens\",hover_name=\"Districts\",orientation=\"h\",\n",
    "                    color_discrete_sequence=px.colors.sequential.Bluered_r,height=800,width=1000)\n",
    "    fig_amount3.show()\n",
    "\n",
    "\n",
    "\n"
   ]
  },
  {
   "cell_type": "code",
   "execution_count": null,
   "metadata": {},
   "outputs": [],
   "source": [
    "top_chart_registered_user(\"mapped_user\",\"Tamil Nadu\")\n"
   ]
  },
  {
   "cell_type": "code",
   "execution_count": null,
   "metadata": {},
   "outputs": [],
   "source": [
    "top_chart_transaction_count(\"aggregated_transaction\")\n"
   ]
  },
  {
   "cell_type": "code",
   "execution_count": null,
   "metadata": {},
   "outputs": [],
   "source": [
    "top_chart_transaction_amount(\"aggregated_transaction\")\n"
   ]
  },
  {
   "cell_type": "code",
   "execution_count": 132,
   "metadata": {},
   "outputs": [],
   "source": [
    "#Transaction year based function\n",
    "def Transaction_amount_count_y(df,year):\n",
    "    transc_accnt_amnt_year=df[df[\"years\"] == year]\n",
    "    transc_accnt_amnt_year.reset_index(drop=True,inplace=True)\n",
    "\n",
    "    transc_accnt_amnt_year_group=transc_accnt_amnt_year.groupby(\"States\")[[\"Transaction_count\",\"Transaction_amount\"]].sum()\n",
    "    transc_accnt_amnt_year_group.reset_index(inplace=True)\n",
    "\n",
    "    fig_amount=px.bar(transc_accnt_amnt_year_group,x=\"States\",y=\"Transaction_amount\",title=f\"{year} TRANSACTION_AMOUNT\",\n",
    "                    color_discrete_sequence=px.colors.sequential.Aggrnyl,height=650,width=600)\n",
    "\n",
    "    fig_amount.show()\n",
    "\n",
    "    \n",
    "\n",
    "    fig_count=px.bar(transc_accnt_amnt_year_group,x=\"States\",y=\"Transaction_count\",title=f\"{year} TRANSACTION_COUNT\",\n",
    "                    color_discrete_sequence=px.colors.sequential.Bluered_r,height=650,width=600)\n",
    "    \n",
    "    fig_count.show()\n",
    "\n",
    "    url=\"https://gist.githubusercontent.com/jbrobst/56c13bbbf9d97d187fea01ca62ea5112/raw/e388c4cae20aa53cb5090210a42ebb9b765c0a36/india_states.geojson\"\n",
    "    response=requests.get(url)\n",
    "    data1=json.loads(response.content)\n",
    "    states_name=[]\n",
    "    for Feature in data1['features']:\n",
    "        states_name.append(Feature[\"properties\"][\"ST_NM\"])\n",
    "\n",
    "    states_name.sort()\n",
    "\n",
    "    fig_india_1=px.choropleth(transc_accnt_amnt_year_group,geojson=data1,locations=\"States\",featureidkey=\"properties.ST_NM\",\n",
    "    color=\"Transaction_amount\",color_continuous_scale=\"Rainbow\",\n",
    "    range_color=(transc_accnt_amnt_year_group['Transaction_amount'].min(),transc_accnt_amnt_year_group['Transaction_amount'].max()),\n",
    "    hover_name=\"States\",title= f\"{year}  TRANSACTION AMOUNT\",fitbounds=\"locations\",\n",
    "    height=600,width=550)\n",
    "    \n",
    "    fig_india_1.update_geos(visible=False)\n",
    "    fig_india_1.show()\n",
    "\n",
    "\n",
    "    fig_india_2=px.choropleth(transc_accnt_amnt_year_group,geojson=data1,locations=\"States\",featureidkey=\"properties.ST_NM\",\n",
    "    color=\"Transaction_count\",color_continuous_scale=\"Rainbow\",\n",
    "    range_color=(transc_accnt_amnt_year_group['Transaction_count'].min(),transc_accnt_amnt_year_group['Transaction_count'].max()),\n",
    "    hover_name=\"States\",title= f\"{year}  TRANSACTION COUNT\",fitbounds=\"locations\",\n",
    "    height=600,width=550)\n",
    "    \n",
    "    fig_india_2.update_geos(visible=False)\n",
    "    fig_india_2.show()\n",
    "\n",
    "    return transc_accnt_amnt_year\n",
    "\n",
    "\n",
    "\n",
    "\n"
   ]
  },
  {
   "cell_type": "code",
   "execution_count": 133,
   "metadata": {},
   "outputs": [],
   "source": [
    "##Transaction quarter based function\n",
    "\n",
    "def Transaction_amount_count_y_Q(df,quarter):\n",
    "    transc_accnt_amnt_year=df[df[\"Quarter\"] == quarter]\n",
    "    transc_accnt_amnt_year.reset_index(drop=True,inplace=True)\n",
    "\n",
    "    transc_accnt_amnt_year_group=transc_accnt_amnt_year.groupby(\"States\")[[\"Transaction_count\",\"Transaction_amount\"]].sum()\n",
    "    transc_accnt_amnt_year_group.reset_index(inplace=True)\n",
    "\n",
    "    fig_amount=px.bar(transc_accnt_amnt_year_group, x=\"States\",y=\"Transaction_amount\",title=f\"{transc_accnt_amnt_year['years'].min()} YEAR {quarter} QUARTER TRANSACTION AMOUNT\",\n",
    "                      color_discrete_sequence=px.colors.sequential.Aggrnyl,height=650,width=600)\n",
    "\n",
    "    fig_amount.show()  \n",
    "\n",
    "\n",
    "\n",
    "    fig_count=px.bar(transc_accnt_amnt_year_group, x=\"States\", y=\"Transaction_count\",title=f\"{transc_accnt_amnt_year['years'].min()}YEAR {quarter} QUARTER TRANSACTION_COUNT\",\n",
    "                     color_discrete_sequence=px.colors.sequential.Bluered_r,height=650,width=600)\n",
    "\n",
    "    fig_count.show()\n",
    "\n",
    "    url=\"https://gist.githubusercontent.com/jbrobst/56c13bbbf9d97d187fea01ca62ea5112/raw/e388c4cae20aa53cb5090210a42ebb9b765c0a36/india_states.geojson\"\n",
    "    response=requests.get(url)\n",
    "    data1=json.loads(response.content)\n",
    "    states_name=[]\n",
    "    for Feature in data1['features']:\n",
    "        states_name.append(Feature[\"properties\"][\"ST_NM\"])\n",
    "\n",
    "    states_name.sort()\n",
    "\n",
    "    fig_india_1=px.choropleth(transc_accnt_amnt_year_group,geojson=data1,locations=\"States\",featureidkey=\"properties.ST_NM\",\n",
    "    color=\"Transaction_amount\",color_continuous_scale=\"Rainbow\",\n",
    "    range_color=(transc_accnt_amnt_year_group['Transaction_amount'].min(),transc_accnt_amnt_year_group['Transaction_amount'].max()),\n",
    "    hover_name=\"States\",title= f\"{transc_accnt_amnt_year['years'].min()} YEAR {quarter} QUARTER TRANSACTION AMOUNT\",fitbounds=\"locations\",\n",
    "    height=600,width=550)\n",
    "\n",
    "    fig_india_1.update_geos(visible=False)\n",
    "    fig_india_1.show()\n",
    "\n",
    "\n",
    "    fig_india_2=px.choropleth(transc_accnt_amnt_year_group,geojson=data1,locations=\"States\",featureidkey=\"properties.ST_NM\",\n",
    "    color=\"Transaction_count\",color_continuous_scale=\"Rainbow\",\n",
    "    range_color=(transc_accnt_amnt_year_group['Transaction_count'].min(),transc_accnt_amnt_year_group['Transaction_count'].max()),\n",
    "    hover_name=\"States\",title= f\"{transc_accnt_amnt_year['years'].min()} YEAR {quarter} QUARTER TRANSACTION COUNT\",fitbounds=\"locations\",\n",
    "    height=600,width=550)\n",
    "\n",
    "    fig_india_2.update_geos(visible=False)\n",
    "    fig_india_2.show()\n",
    "\n",
    "    return transc_accnt_amnt_year\n",
    "\n",
    "\n",
    "\n",
    "\n",
    "\n"
   ]
  },
  {
   "cell_type": "code",
   "execution_count": 134,
   "metadata": {},
   "outputs": [],
   "source": [
    "#Transaction type function \n",
    "def aggre_Transc_type(df,state):\n",
    "\n",
    "    transc_accnt_amnt_year=df[df[\"States\"] == state]\n",
    "    transc_accnt_amnt_year.reset_index(drop=True, inplace=True)\n",
    "\n",
    "    transc_accnt_amnt_year_group=transc_accnt_amnt_year.groupby(\"Transaction_type\")[[\"Transaction_count\",\"Transaction_amount\"]].sum()\n",
    "    transc_accnt_amnt_year_group.reset_index(inplace=True)\n",
    "\n",
    "    fig_pie_1=px.pie(data_frame=transc_accnt_amnt_year_group, names=\"Transaction_type\",values=\"Transaction_amount\",\n",
    "                    width=600,title=f\"{state.upper()} TRANSACTION AMOUNT\",hole=0.5)\n",
    "    fig_pie_1.show()\n",
    "\n",
    "    fig_pie_2=px.pie(data_frame=transc_accnt_amnt_year_group, names=\"Transaction_type\",values=\"Transaction_count\",\n",
    "                    width=600,title=f\"{state.upper()}TRANSACTION COUNT\",hole=0.5)\n",
    "    fig_pie_2.show()\n",
    "\n",
    "\n",
    "\n"
   ]
  },
  {
   "cell_type": "code",
   "execution_count": 135,
   "metadata": {},
   "outputs": [],
   "source": [
    "#aggregate_user_years analysis\n",
    "def aggre_user_plot_1(df,year):\n",
    "    agg_user_yr=df[df[\"years\"]==year]\n",
    "    agg_user_yr.reset_index(drop=True,inplace=True)\n",
    "\n",
    "    agg_user_yr_grp=pd.DataFrame(agg_user_yr.groupby(\"Brands\")[\"Transaction_count\"].sum())\n",
    "    agg_user_yr_grp.reset_index(inplace=True)\n",
    "    agg_user_yr_grp\n",
    "\n",
    "    fig_bar_1=px.bar(agg_user_yr_grp, x=\"Brands\", y=\"Transaction_count\", title=f\"{year} BRANDS AND TRANSACTION COUNT\",width=800,color_discrete_sequence=px.colors.sequential.haline_r,hover_name=\"Brands\")\n",
    "    fig_bar_1.show()\n",
    "\n",
    "    return agg_user_yr\n"
   ]
  },
  {
   "cell_type": "code",
   "execution_count": 136,
   "metadata": {},
   "outputs": [],
   "source": [
    "#aggregate_user_quarter anlysis\n",
    "def aggr_user_plot2(df,quarter):\n",
    "    agg_user_yr_qrtr=df[df[\"Quarter\"]==quarter]\n",
    "    agg_user_yr_qrtr.reset_index(drop=True,inplace=True)\n",
    "\n",
    "    agg_user_yr_qrtr_grp=pd.DataFrame(agg_user_yr_qrtr.groupby(\"Brands\")[\"Transaction_count\"].sum())\n",
    "    agg_user_yr_qrtr_grp.reset_index(inplace=True)\n",
    "    agg_user_yr_qrtr_grp\n",
    "\n",
    "\n",
    "    fig_bar_1=px.bar(agg_user_yr_qrtr_grp, x=\"Brands\", y=\"Transaction_count\", title=f\"{quarter}QUARTER, BRANDS AND TRANSACTION COUNT\",width=800,color_discrete_sequence=px.colors.sequential.haline_r,hover_name=\"Brands\")\n",
    "    fig_bar_1.show()\n",
    "\n",
    "    return agg_user_yr_qrtr\n"
   ]
  },
  {
   "cell_type": "code",
   "execution_count": 137,
   "metadata": {},
   "outputs": [],
   "source": [
    "#agree_user- states function \n",
    "def aggr_user_plot3(df,state):\n",
    "    aggre_user_year_qrtr_state=df[df[\"States\"]==state]\n",
    "    aggre_user_year_qrtr_state.reset_index(drop=True,inplace=True)\n",
    "    aggre_user_year_qrtr_state\n",
    "\n",
    "    fig_line_1=px.line(aggre_user_year_qrtr_state, x=\"Brands\", y=\"Transaction_count\", hover_data=\"percentage\",\n",
    "                    title=f\"{state.upper()} BRANDS , TRANSACTION_COUNT , PERCENTAGE\",width=1000,markers=True)\n",
    "\n",
    "    fig_line_1.show()"
   ]
  },
  {
   "cell_type": "code",
   "execution_count": 138,
   "metadata": {},
   "outputs": [],
   "source": [
    "#map transaction  district analysis\n",
    "def map_district_Transc_type(df,state):\n",
    "\n",
    "    transc_accnt_amnt_year=df[df[\"States\"] == state]\n",
    "    transc_accnt_amnt_year.reset_index(drop=True, inplace=True)\n",
    "\n",
    "    transc_accnt_amnt_year_group=transc_accnt_amnt_year.groupby(\"Districts\")[[\"Transaction_count\",\"Transaction_amount\"]].sum()\n",
    "    transc_accnt_amnt_year_group.reset_index(inplace=True)\n",
    "\n",
    "    fig_bar_1=px.bar(data_frame=transc_accnt_amnt_year_group, x=\"Transaction_amount\",y=\"Districts\",orientation=\"h\",title=f\"{state.upper()} DISTRICT AND TRANSACTION AMOUNT\",color_discrete_sequence=px.colors.sequential.Mint_r)\n",
    "    fig_bar_1.show()\n",
    "\n",
    "    fig_bar_2=px.bar(data_frame=transc_accnt_amnt_year_group, x=\"Transaction_count\",y=\"Districts\",orientation=\"h\",title=f\"{state.upper()} DISTRICT AND TRANSACTION COUNT\",color_discrete_sequence=px.colors.sequential.Mint_r)\n",
    "    fig_bar_2.show()\n",
    "\n"
   ]
  },
  {
   "cell_type": "code",
   "execution_count": 139,
   "metadata": {},
   "outputs": [],
   "source": [
    "def map_user_plot_1(df, year):\n",
    "\n",
    "    map_user_year=df[df['years']==year]\n",
    "    map_user_year.reset_index(drop=True,inplace=True)\n",
    "\n",
    "    map_user_year_grp=map_user_year.groupby(\"States\")[[\"registeredUsers\",\"appOpens\"]].sum()\n",
    "    map_user_year_grp.reset_index(inplace=True) \n",
    "    \n",
    "\n",
    "    fig_line_1=px.line(map_user_year_grp, x=\"States\", y=[\"registeredUsers\",\"appOpens\"],\n",
    "                        title=f\"{year} REGISTERED USERS,APPOPENS\",width=1000,height=800,markers=True)\n",
    "\n",
    "    fig_line_1.show()\n",
    "\n",
    "    return map_user_year\n",
    "\n",
    "\n",
    "\n"
   ]
  },
  {
   "cell_type": "code",
   "execution_count": null,
   "metadata": {},
   "outputs": [],
   "source": []
  },
  {
   "cell_type": "code",
   "execution_count": 140,
   "metadata": {},
   "outputs": [],
   "source": [
    "def map_user_plot_2(df,quarter):\n",
    "    map_user_year_quarter=df[df['Quarter']==quarter]\n",
    "    map_user_year_quarter.reset_index(drop=True,inplace=True)\n",
    "\n",
    "    map_user_year_quarter_grp=map_user_year_quarter.groupby(\"States\")[[\"registeredUsers\",\"appOpens\"]].sum()\n",
    "    map_user_year_quarter_grp.reset_index(inplace=True) \n",
    "\n",
    "\n",
    "    fig_line_1=px.line(map_user_year_quarter_grp, x=\"States\", y=[\"registeredUsers\",\"appOpens\"],\n",
    "                        title=f\"{df['years'].min()} YEAR {quarter} QUARTER REGISTERED USERS,APPOPENS\",width=1000,height=800,markers=True,\n",
    "                        color_discrete_sequence=px.colors.sequential.Rainbow_r)\n",
    "    fig_line_1.show()\n",
    "\n",
    "    return map_user_year_quarter\n",
    "\n"
   ]
  },
  {
   "cell_type": "code",
   "execution_count": 141,
   "metadata": {},
   "outputs": [],
   "source": [
    "def map_user_plot_3(df,states):\n",
    "    map_user_year_quarter_state=df[df[\"States\"]==states]\n",
    "    map_user_year_quarter_state.reset_index(drop=True,inplace=True)\n",
    "\n",
    "\n",
    "    fig_map_user_bar_1=px.bar(map_user_year_quarter_state, x=\"registeredUsers\",y=\"Districts\",orientation=\"h\",title=f\"{states.upper()} REGISTERED USER\",height=800,                        \n",
    "                                color_discrete_sequence=px.colors.sequential.Rainbow_r)\n",
    "    \n",
    "    fig_map_user_bar_1.show()\n",
    "\n",
    "    fig_map_user_bar_2=px.bar(map_user_year_quarter_state, x=\"appOpens\",y=\"Districts\",orientation=\"h\",title=f\"{states.upper()} APPOPENS\",height=800,                        \n",
    "                                color_discrete_sequence=px.colors.sequential.Rainbow_r)\n",
    "\n",
    "    fig_map_user_bar_2.show()\n",
    "\n",
    "\n"
   ]
  },
  {
   "cell_type": "code",
   "execution_count": 142,
   "metadata": {},
   "outputs": [],
   "source": [
    "#Top transaction state analysis\n",
    "def top_transaction_plot_1(df,state):\n",
    "    top_user_year_states=df[df[\"States\"]==state]\n",
    "    top_user_year_states.reset_index(drop=True,inplace=True)\n",
    "\n",
    "    \n",
    "    fig_top_user_bar_1=px.bar(top_user_year_states, x=\"Quarter\",y=\"Transaction_amount\",hover_data=\"pincodes\",\n",
    "                            title=\"TRANSACTION AMOUNT\",height=800,color_discrete_sequence=px.colors.sequential.GnBu_r)\n",
    "        \n",
    "    fig_top_user_bar_1.show()\n",
    "\n",
    "    fig_top_user_bar_2=px.bar(top_user_year_states, x=\"Quarter\",y=\"Transaction_count\",hover_data=\"pincodes\",\n",
    "                            title=\"Transaction_count\",height=800,color_discrete_sequence=px.colors.sequential.Agsunset_r)\n",
    "        \n",
    "    fig_top_user_bar_2.show()\n",
    "\n",
    "\n",
    "\n",
    "\n",
    "\n"
   ]
  },
  {
   "cell_type": "code",
   "execution_count": 180,
   "metadata": {},
   "outputs": [],
   "source": [
    "#top_user year analysis\n",
    "def top_user_plot_1(df,year):\n",
    "    top_users_year=df[df[\"years\"]==year]\n",
    "    top_users_year.reset_index(drop=True,inplace=True)\n",
    "\n",
    "    top_users_year_grp=pd.DataFrame(top_users_year.groupby([\"States\",\"Quarter\"])[\"registeredUsers\"].sum())\n",
    "    top_users_year_grp.reset_index(inplace=True)\n",
    "\n",
    "    fig_top_plot_1=px.bar(top_users_year_grp,x=\"States\",y=\"registeredUsers\",color=\"Quarter\",width=1000, height=800,\n",
    "                        color_discrete_sequence=px.colors.sequential.Burgyl,hover_name=\"States\", \n",
    "                        title=f\"{year} REGISTERED USERS\")\n",
    "    fig_top_plot_1.show()\n",
    "\n",
    "    return top_users_year"
   ]
  },
  {
   "cell_type": "code",
   "execution_count": null,
   "metadata": {},
   "outputs": [],
   "source": [
    "#top_user_state analysis\n",
    "def top_user_plot_2(df,state):\n",
    "    top_user_year_state=df[df['States']==state]\n",
    "    top_user_year_state.reset_index(drop=True,inplace=True)\n",
    "\n",
    "    fig_top_plot_2=px.bar(top_user_year_state,x=\"Quarter\",y=\"registeredUsers\",title=\"REGISTEREDUSERS,PINCODES, QUARTERS\",\n",
    "                        width=1000, height=800, color=\"registeredUsers\", hover_data=\"pincodes\",\n",
    "                        color_continuous_scale= px.colors.sequential.Burgyl)\n",
    "    fig_top_plot_2.show()\n",
    "\n",
    "    return top_user_year_state"
   ]
  },
  {
   "cell_type": "markdown",
   "metadata": {},
   "source": [
    "### Aggregated_transaction\n",
    "\n"
   ]
  },
  {
   "cell_type": "code",
   "execution_count": null,
   "metadata": {},
   "outputs": [],
   "source": [
    "tranc_year=Transaction_amount_count_y(aggre_transaction, 2022)  \n"
   ]
  },
  {
   "cell_type": "code",
   "execution_count": null,
   "metadata": {},
   "outputs": [],
   "source": [
    "aggre_Transc_type(tranc_year,'Tamil Nadu')"
   ]
  },
  {
   "cell_type": "code",
   "execution_count": null,
   "metadata": {},
   "outputs": [],
   "source": [
    "tranc_year_quarter=Transaction_amount_count_y_Q(tranc_year,3)\n"
   ]
  },
  {
   "cell_type": "code",
   "execution_count": null,
   "metadata": {},
   "outputs": [],
   "source": [
    "aggre_Transc_type(tranc_year_quarter,'Tamil Nadu')"
   ]
  },
  {
   "cell_type": "markdown",
   "metadata": {},
   "source": [
    "### aggregated_User"
   ]
  },
  {
   "cell_type": "code",
   "execution_count": null,
   "metadata": {},
   "outputs": [],
   "source": [
    "aggre_user_year=aggre_user_plot_1(aggre_user,2020)"
   ]
  },
  {
   "cell_type": "code",
   "execution_count": null,
   "metadata": {},
   "outputs": [],
   "source": [
    "aggre_user_year_qrtr=aggr_user_plot2(aggre_user_year,2)"
   ]
  },
  {
   "cell_type": "code",
   "execution_count": null,
   "metadata": {},
   "outputs": [],
   "source": [
    "aggr_user_plot3(aggre_user_year_qrtr,\"Andaman & Nicobar\")"
   ]
  },
  {
   "cell_type": "markdown",
   "metadata": {},
   "source": [
    "### map_transaction"
   ]
  },
  {
   "cell_type": "code",
   "execution_count": null,
   "metadata": {},
   "outputs": [],
   "source": [
    "map_tranc_year=Transaction_amount_count_y(map_transaction, 2022)  \n",
    "\n"
   ]
  },
  {
   "cell_type": "code",
   "execution_count": null,
   "metadata": {},
   "outputs": [],
   "source": [
    "map_district_Transc_type(map_tranc_year,'Tamil Nadu')"
   ]
  },
  {
   "cell_type": "code",
   "execution_count": null,
   "metadata": {},
   "outputs": [],
   "source": [
    "map_tranc_year_quarter=Transaction_amount_count_y_Q(map_tranc_year,3)\n"
   ]
  },
  {
   "cell_type": "code",
   "execution_count": null,
   "metadata": {},
   "outputs": [],
   "source": [
    "map_district_Transc_type(map_tranc_year_quarter,'Tamil Nadu')"
   ]
  },
  {
   "cell_type": "markdown",
   "metadata": {},
   "source": [
    "### map_user"
   ]
  },
  {
   "cell_type": "code",
   "execution_count": null,
   "metadata": {},
   "outputs": [],
   "source": [
    "map_user_year=map_user_plot_1(map_user, 2022)\n"
   ]
  },
  {
   "cell_type": "code",
   "execution_count": null,
   "metadata": {},
   "outputs": [],
   "source": [
    "map_user_year_quarter=map_user_plot_2(map_user_year,3)\n"
   ]
  },
  {
   "cell_type": "code",
   "execution_count": null,
   "metadata": {},
   "outputs": [],
   "source": [
    "map_user_year_quarter_state=map_user_plot_3(map_user_year_quarter,'Tamil Nadu')"
   ]
  },
  {
   "cell_type": "markdown",
   "metadata": {},
   "source": [
    "### TOP transaction\n",
    "\n"
   ]
  },
  {
   "cell_type": "markdown",
   "metadata": {},
   "source": []
  },
  {
   "cell_type": "code",
   "execution_count": null,
   "metadata": {},
   "outputs": [],
   "source": [
    "top_tranc_year=Transaction_amount_count_y(top_transaction, 2022)\n",
    "\n"
   ]
  },
  {
   "cell_type": "code",
   "execution_count": null,
   "metadata": {},
   "outputs": [],
   "source": [
    "top_transc_year=top_transaction_plot_1(top_transaction,\"Tamil Nadu\")\n"
   ]
  },
  {
   "cell_type": "code",
   "execution_count": null,
   "metadata": {},
   "outputs": [],
   "source": [
    "top_tranc_year_quarter=Transaction_amount_count_y_Q(top_tranc_year,3)\n"
   ]
  },
  {
   "cell_type": "markdown",
   "metadata": {},
   "source": [
    "### Top users"
   ]
  },
  {
   "cell_type": "code",
   "execution_count": null,
   "metadata": {},
   "outputs": [],
   "source": [
    "top_user_year=top_user_plot_1(top_users,2022)\n"
   ]
  },
  {
   "cell_type": "code",
   "execution_count": null,
   "metadata": {},
   "outputs": [],
   "source": [
    "top_user_year_state=top_user_plot_2(top_user_year,\"Andaman & Nicobar\")\n"
   ]
  }
 ],
 "metadata": {
  "kernelspec": {
   "display_name": "Python 3",
   "language": "python",
   "name": "python3"
  },
  "language_info": {
   "codemirror_mode": {
    "name": "ipython",
    "version": 3
   },
   "file_extension": ".py",
   "mimetype": "text/x-python",
   "name": "python",
   "nbconvert_exporter": "python",
   "pygments_lexer": "ipython3",
   "version": "3.12.3"
  }
 },
 "nbformat": 4,
 "nbformat_minor": 2
}
