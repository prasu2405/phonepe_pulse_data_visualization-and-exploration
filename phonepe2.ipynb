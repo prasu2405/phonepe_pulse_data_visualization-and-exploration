{
 "cells": [
  {
   "cell_type": "code",
   "execution_count": 1,
   "metadata": {},
   "outputs": [],
   "source": [
    "import pandas as pd\n",
    "import pymysql\n",
    "import plotly.express as px\n",
    "import requests\n",
    "import json\n",
    "import streamlit as st\n"
   ]
  },
  {
   "cell_type": "code",
   "execution_count": 131,
   "metadata": {},
   "outputs": [],
   "source": [
    "#dataframe creation\n",
    "\n",
    "mydb=pymysql.connect(host=\"localhost\",\n",
    "                     user=\"root\",\n",
    "                     port=3306,\n",
    "                     database=\"phonepe_data\",\n",
    "                     password=\"1234\")\n",
    "\n",
    "cursor=mydb.cursor()\n",
    "\n",
    "\n",
    "#aggregate_transaction_df\n",
    "cursor.execute(\"select * from aggregated_transaction\")\n",
    "mydb.commit()\n",
    "table1=cursor.fetchall()\n",
    "\n",
    "aggre_transaction=pd.DataFrame(table1,columns=(\"States\",\"years\",\"Quarter\",\"Transaction_type\",\"Transaction_count\",\"Transaction_amount\"))\n",
    "\n",
    "#aggregate_user_df\n",
    "cursor.execute(\"select * from aggregated_user\")\n",
    "mydb.commit()\n",
    "table2=cursor.fetchall()\n",
    "\n",
    "aggre_user=pd.DataFrame(table2,columns=(\"States\",\"years\",\"Quarter\",\"Brands\",\"Transaction_count\",\"percentage\"))\n",
    "\n",
    "#map_transaction_df\n",
    "cursor.execute(\"select * from mapped_transaction\")\n",
    "mydb.commit()\n",
    "table3=cursor.fetchall()\n",
    "\n",
    "map_transaction=pd.DataFrame(table3,columns=(\"States\",\"years\",\"Quarter\",\"Districts\",\"Transaction_count\",\"Transaction_amount\"))\n",
    "\n",
    "\n",
    "#map_user_df\n",
    "cursor.execute(\"select * from mapped_user\")\n",
    "mydb.commit()\n",
    "table4=cursor.fetchall()\n",
    "\n",
    "map_user=pd.DataFrame(table4,columns=(\"States\",\"years\",\"Quarter\",\"Districts\",\"registeredUsers\",\"appOpens\"))\n",
    "\n",
    "\n",
    "#top_transaction_df\n",
    "cursor.execute(\"select * from topped_transaction\")\n",
    "mydb.commit()\n",
    "table5=cursor.fetchall()\n",
    "\n",
    "top_transaction=pd.DataFrame(table5,columns=(\"States\",\"years\",\"Quarter\",\"pincodes\",\"Transaction_count\",\"Transaction_amount\"))\n",
    "\n",
    "#top_user_df\n",
    "cursor.execute(\"select * from topped_users\")\n",
    "mydb.commit()\n",
    "table6=cursor.fetchall()\n",
    "\n",
    "top_users=pd.DataFrame(table6,columns=(\"States\",\"years\",\"Quarter\",\"pincodes\",\"registeredUsers\"))\n",
    "\n",
    "\n",
    "\n"
   ]
  },
  {
   "cell_type": "code",
   "execution_count": 8,
   "metadata": {},
   "outputs": [],
   "source": [
    "#TOP CHART TRANSACTION AMOUNT\n",
    "def top_chart_transaction_amount(table_name):\n",
    "    mydb=pymysql.connect(host=\"localhost\",\n",
    "                        user=\"root\",\n",
    "                        port=3306,\n",
    "                        database=\"phonepe_data\",\n",
    "                        password=\"1234\")\n",
    "\n",
    "    cursor=mydb.cursor()\n",
    "\n",
    "    #plot 1\n",
    "    query1= f'''select States,sum(Transaction_amount) as Transaction_amount from {table_name}\n",
    "                group by States\n",
    "                order by Transaction_amount DESC\n",
    "                limit 10;'''\n",
    "\n",
    "    cursor.execute(query1)\n",
    "    table=cursor.fetchall()\n",
    "    mydb.commit()\n",
    "\n",
    "    df_1=pd.DataFrame(table,columns=(\"States\",\"Transaction_amount\"))\n",
    "\n",
    "    fig_amount1=px.bar(df_1,x=\"States\",y=\"Transaction_amount\",title= \"TRANSACTION_AMOUNT\",hover_name=\"States\",\n",
    "                    color_discrete_sequence=px.colors.sequential.Aggrnyl,height=650,width=600)\n",
    "    fig_amount1.show()\n",
    "\n",
    "    #plot 2\n",
    "    query2=f'''select States,sum(Transaction_amount) as Transaction_amount from {table_name}\n",
    "                group by States\n",
    "                order by Transaction_amount\n",
    "                limit 10;'''\n",
    "\n",
    "    cursor.execute(query2)\n",
    "    table=cursor.fetchall()\n",
    "    mydb.commit()\n",
    "\n",
    "    df_2=pd.DataFrame(table,columns=(\"States\",\"Transaction_amount\"))\n",
    "\n",
    "    fig_amount2=px.bar(df_2,x=\"States\",y=\"Transaction_amount\",title= \"TRANSACTION_AMOUNT\",hover_name=\"States\",\n",
    "                    color_discrete_sequence=px.colors.sequential.Aggrnyl_r,height=650,width=600)\n",
    "    fig_amount2.show()\n",
    "\n",
    "    #plot 3\n",
    "    query3='''select States, AVG(Transaction_amount) as Transaction_amount from {table_name}\n",
    "                group by States\n",
    "                order by Transaction_amount;'''\n",
    "\n",
    "    cursor.execute(query3)\n",
    "    table=cursor.fetchall()\n",
    "    mydb.commit()\n",
    "\n",
    "    df_3=pd.DataFrame(table,columns=(\"States\",\"Transaction_amount\"))\n",
    "\n",
    "    fig_amount3=px.bar(df_3,x=\"Transaction_amount\",y=\"States\",title= \"TRANSACTION_AMOUNT\",hover_name=\"States\",orientation=\"h\",\n",
    "                    color_discrete_sequence=px.colors.sequential.Bluered_r,height=650,width=600)\n",
    "    fig_amount3.show()\n",
    "\n",
    "\n",
    "\n",
    "\n",
    "\n",
    "\n"
   ]
  },
  {
   "cell_type": "code",
   "execution_count": 11,
   "metadata": {},
   "outputs": [],
   "source": [
    "\n",
    "#TOP CHART TRANSACTION COUNT\n",
    "def top_chart_transaction_count(table_name):\n",
    "    mydb=pymysql.connect(host=\"localhost\",\n",
    "                        user=\"root\",\n",
    "                        port=3306,\n",
    "                        database=\"phonepe_data\",\n",
    "                        password=\"1234\")\n",
    "\n",
    "    cursor=mydb.cursor()\n",
    "\n",
    "    #plot 1\n",
    "    query1= f'''select States,sum(Transaction_count) as Transaction_count from {table_name}\n",
    "                group by States\n",
    "                order by Transaction_count DESC\n",
    "                limit 10;'''\n",
    "\n",
    "    cursor.execute(query1)\n",
    "    table=cursor.fetchall()\n",
    "    mydb.commit()\n",
    "\n",
    "    df_1=pd.DataFrame(table,columns=(\"States\",\"Transaction_count\"))\n",
    "\n",
    "    fig_amount1=px.bar(df_1,x=\"States\",y=\"Transaction_count\",title= \"TRANSACTION COUNT\",hover_name=\"States\",\n",
    "                    color_discrete_sequence=px.colors.sequential.Aggrnyl,height=650,width=600)\n",
    "    fig_amount1.show()\n",
    "\n",
    "    #plot 2\n",
    "    query2=f'''select States,sum(Transaction_count) as Transaction_count from {table_name}\n",
    "                group by States\n",
    "                order by Transaction_count\n",
    "                limit 10;'''\n",
    "\n",
    "    cursor.execute(query2)\n",
    "    table=cursor.fetchall()\n",
    "    mydb.commit()\n",
    "\n",
    "    df_2=pd.DataFrame(table,columns=(\"States\",\"Transaction_count\"))\n",
    "\n",
    "    fig_amount2=px.bar(df_2,x=\"States\",y=\"Transaction_count\",title= \"TRANSACTION COUNT\",hover_name=\"States\",\n",
    "                    color_discrete_sequence=px.colors.sequential.Aggrnyl_r,height=650,width=600)\n",
    "    fig_amount2.show()\n",
    "\n",
    "    #plot 3\n",
    "    query3=f'''select States, AVG(Transaction_count) as Transaction_count from {table_name}\n",
    "                group by States\n",
    "                order by Transaction_count;'''\n",
    "\n",
    "    cursor.execute(query3)\n",
    "    table=cursor.fetchall()\n",
    "    mydb.commit()\n",
    "\n",
    "    df_3=pd.DataFrame(table,columns=(\"States\",\"Transaction_count\"))\n",
    "\n",
    "    fig_amount3=px.bar(df_3,x=\"Transaction_count\",y=\"States\",title=\"TRANSACTION COUNT\",hover_name=\"States\",orientation=\"h\",\n",
    "                    color_discrete_sequence=px.colors.sequential.Bluered_r,height=800,width=1000)\n",
    "    fig_amount3.show()\n",
    "\n",
    "\n",
    "\n",
    "\n",
    "\n",
    "\n"
   ]
  },
  {
   "cell_type": "code",
   "execution_count": 16,
   "metadata": {},
   "outputs": [],
   "source": [
    "#TOP CHART REGISTEREDUSERS ANALYSIS\n",
    "\n",
    "def top_chart_registered_user(table_name,state):\n",
    "    mydb=pymysql.connect(host=\"localhost\",\n",
    "                        user=\"root\",\n",
    "                        port=3306,\n",
    "                        database=\"phonepe_data\",\n",
    "                        password=\"1234\")\n",
    "\n",
    "    cursor=mydb.cursor()\n",
    "\n",
    "    #plot 1\n",
    "    query1= f'''select Districts,sum(registeredUsers) as registeredUsers\n",
    "                from {table_name}\n",
    "                where States='{state}'\n",
    "                group by Districts\n",
    "                order by registeredUsers DESC\n",
    "                limit 10;'''\n",
    "\n",
    "    cursor.execute(query1)\n",
    "    table=cursor.fetchall()\n",
    "    mydb.commit()\n",
    "\n",
    "    df_1=pd.DataFrame(table,columns=(\"Districts\",\"registeredUsers\"))\n",
    "\n",
    "    fig_amount1=px.bar(df_1,x=\"Districts\",y=\"registeredUsers\",title= \"TOP 1O OF REGISTEREDUSERS\",hover_name=\"Districts\",\n",
    "                    color_discrete_sequence=px.colors.sequential.Aggrnyl,height=650,width=600)\n",
    "    fig_amount1.show()\n",
    "\n",
    "    #plot 2\n",
    "    query2=f'''select Districts,sum(registeredUsers) as registeredUsers\n",
    "                from {table_name}\n",
    "                where States='{state}'\n",
    "                group by Districts\n",
    "                order by registeredUsers \n",
    "                limit 10;'''\n",
    "\n",
    "    cursor.execute(query2)\n",
    "    table=cursor.fetchall()\n",
    "    mydb.commit()\n",
    "\n",
    "    df_2=pd.DataFrame(table,columns=(\"Districts\",\"registeredUsers\"))\n",
    "\n",
    "    fig_amount2=px.bar(df_2,x=\"Districts\",y=\"registeredUsers\",title= \"LAST 10 OF REGISTEREDUSERS\",hover_name=\"Districts\",\n",
    "                    color_discrete_sequence=px.colors.sequential.Aggrnyl_r,height=650,width=600)\n",
    "    fig_amount2.show()\n",
    "\n",
    "    #plot 3\n",
    "    query3=f'''select Districts,AVG(registeredUsers) as registeredUsers\n",
    "                from {table_name}\n",
    "                where States='{state}'\n",
    "                group by Districts\n",
    "                order by registeredUsers'''\n",
    "\n",
    "    cursor.execute(query3)\n",
    "    table=cursor.fetchall()\n",
    "    mydb.commit()\n",
    "\n",
    "    df_3=pd.DataFrame(table,columns=(\"Districts\",\"registeredUsers\"))\n",
    "\n",
    "    fig_amount3=px.bar(df_3,x=\"registeredUsers\",y=\"Districts\",title=\"AVG OF REGISTERED USERS\",hover_name=\"Districts\",orientation=\"h\",\n",
    "                    color_discrete_sequence=px.colors.sequential.Bluered_r,height=800,width=1000)\n",
    "    fig_amount3.show()\n",
    "\n",
    "\n",
    "\n"
   ]
  },
  {
   "cell_type": "code",
   "execution_count": null,
   "metadata": {},
   "outputs": [],
   "source": [
    "#TOP CHART AppOpens ANALYSIS\n",
    "\n",
    "def top_chart_AppOpens(table_name,state):\n",
    "    mydb=pymysql.connect(host=\"localhost\",\n",
    "                        user=\"root\",\n",
    "                        port=3306,\n",
    "                        database=\"phonepe_data\",\n",
    "                        password=\"1234\")\n",
    "\n",
    "    cursor=mydb.cursor()\n",
    "\n",
    "    #plot 1\n",
    "    query1= f'''select Districts,sum(AppOpens) as AppOpens\n",
    "                from {table_name}\n",
    "                where States='{state}'\n",
    "                group by Districts\n",
    "                order by AppOpens DESC\n",
    "                limit 10;'''\n",
    "\n",
    "    cursor.execute(query1)\n",
    "    table=cursor.fetchall()\n",
    "    mydb.commit()\n",
    "\n",
    "    df_1=pd.DataFrame(table,columns=(\"Districts\",\"AppOpens\"))\n",
    "\n",
    "    fig_amount1=px.bar(df_1,x=\"Districts\",y=\"AppOpens\",title= \"TOP 1O OF AppOpens\",hover_name=\"Districts\",\n",
    "                    color_discrete_sequence=px.colors.sequential.Aggrnyl,height=650,width=600)\n",
    "    fig_amount1.show()\n",
    "\n",
    "    #plot 2\n",
    "    query2=f'''select Districts,sum(AppOpens) as AppOpens\n",
    "                from {table_name}\n",
    "                where States='{state}'\n",
    "                group by Districts\n",
    "                order by AppOpens \n",
    "                limit 10;'''\n",
    "\n",
    "    cursor.execute(query2)\n",
    "    table=cursor.fetchall()\n",
    "    mydb.commit()\n",
    "\n",
    "    df_2=pd.DataFrame(table,columns=(\"Districts\",\"AppOpens\"))\n",
    "\n",
    "    fig_amount2=px.bar(df_2,x=\"Districts\",y=\"AppOpens\",title= \"LAST 10 OF AppOpens\",hover_name=\"Districts\",\n",
    "                    color_discrete_sequence=px.colors.sequential.Aggrnyl_r,height=650,width=600)\n",
    "    fig_amount2.show()\n",
    "\n",
    "    #plot 3\n",
    "    query3=f'''select Districts,AVG(AppOpens) as AppOpens\n",
    "                from {table_name}\n",
    "                where States='{state}'\n",
    "                group by Districts\n",
    "                order by AppOpens'''\n",
    "\n",
    "    cursor.execute(query3)\n",
    "    table=cursor.fetchall()\n",
    "    mydb.commit()\n",
    "\n",
    "    df_3=pd.DataFrame(table,columns=(\"Districts\",\"AppOpens\"))\n",
    "\n",
    "    fig_amount3=px.bar(df_3,x=\"AppOpens\",y=\"Districts\",title=\"AVG OF AppOpens\",hover_name=\"Districts\",orientation=\"h\",\n",
    "                    color_discrete_sequence=px.colors.sequential.Bluered_r,height=800,width=1000)\n",
    "    fig_amount3.show()\n",
    "\n",
    "\n",
    "\n"
   ]
  },
  {
   "cell_type": "code",
   "execution_count": 17,
   "metadata": {},
   "outputs": [
    {
     "data": {
      "application/vnd.plotly.v1+json": {
       "config": {
        "plotlyServerURL": "https://plot.ly"
       },
       "data": [
        {
         "alignmentgroup": "True",
         "hovertemplate": "<b>%{hovertext}</b><br><br>Districts=%{x}<br>registeredUsers=%{y}<extra></extra>",
         "hovertext": [
          "chennai district",
          "thiruvallur district",
          "coimbatore district",
          "chengalpattu district",
          "kancheepuram district",
          "tiruppur district",
          "salem district",
          "madurai district",
          "krishnagiri district",
          "tiruchirappalli district"
         ],
         "legendgroup": "",
         "marker": {
          "color": "rgb(36, 86, 104)",
          "pattern": {
           "shape": ""
          }
         },
         "name": "",
         "offsetgroup": "",
         "orientation": "v",
         "showlegend": false,
         "textposition": "auto",
         "type": "bar",
         "x": [
          "chennai district",
          "thiruvallur district",
          "coimbatore district",
          "chengalpattu district",
          "kancheepuram district",
          "tiruppur district",
          "salem district",
          "madurai district",
          "krishnagiri district",
          "tiruchirappalli district"
         ],
         "xaxis": "x",
         "y": [
          230569770,
          187900020,
          159237655,
          157126785,
          111231430,
          94719430,
          84974070,
          76739530,
          72525015,
          64525005
         ],
         "yaxis": "y"
        }
       ],
       "layout": {
        "barmode": "relative",
        "height": 650,
        "legend": {
         "tracegroupgap": 0
        },
        "template": {
         "data": {
          "candlestick": [
           {
            "decreasing": {
             "line": {
              "color": "#000033"
             }
            },
            "increasing": {
             "line": {
              "color": "#000032"
             }
            },
            "type": "candlestick"
           }
          ],
          "contour": [
           {
            "colorscale": [
             [
              0,
              "#000011"
             ],
             [
              0.1111111111111111,
              "#000012"
             ],
             [
              0.2222222222222222,
              "#000013"
             ],
             [
              0.3333333333333333,
              "#000014"
             ],
             [
              0.4444444444444444,
              "#000015"
             ],
             [
              0.5555555555555556,
              "#000016"
             ],
             [
              0.6666666666666666,
              "#000017"
             ],
             [
              0.7777777777777778,
              "#000018"
             ],
             [
              0.8888888888888888,
              "#000019"
             ],
             [
              1,
              "#000020"
             ]
            ],
            "type": "contour"
           }
          ],
          "contourcarpet": [
           {
            "colorscale": [
             [
              0,
              "#000011"
             ],
             [
              0.1111111111111111,
              "#000012"
             ],
             [
              0.2222222222222222,
              "#000013"
             ],
             [
              0.3333333333333333,
              "#000014"
             ],
             [
              0.4444444444444444,
              "#000015"
             ],
             [
              0.5555555555555556,
              "#000016"
             ],
             [
              0.6666666666666666,
              "#000017"
             ],
             [
              0.7777777777777778,
              "#000018"
             ],
             [
              0.8888888888888888,
              "#000019"
             ],
             [
              1,
              "#000020"
             ]
            ],
            "type": "contourcarpet"
           }
          ],
          "heatmap": [
           {
            "colorscale": [
             [
              0,
              "#000011"
             ],
             [
              0.1111111111111111,
              "#000012"
             ],
             [
              0.2222222222222222,
              "#000013"
             ],
             [
              0.3333333333333333,
              "#000014"
             ],
             [
              0.4444444444444444,
              "#000015"
             ],
             [
              0.5555555555555556,
              "#000016"
             ],
             [
              0.6666666666666666,
              "#000017"
             ],
             [
              0.7777777777777778,
              "#000018"
             ],
             [
              0.8888888888888888,
              "#000019"
             ],
             [
              1,
              "#000020"
             ]
            ],
            "type": "heatmap"
           }
          ],
          "histogram2d": [
           {
            "colorscale": [
             [
              0,
              "#000011"
             ],
             [
              0.1111111111111111,
              "#000012"
             ],
             [
              0.2222222222222222,
              "#000013"
             ],
             [
              0.3333333333333333,
              "#000014"
             ],
             [
              0.4444444444444444,
              "#000015"
             ],
             [
              0.5555555555555556,
              "#000016"
             ],
             [
              0.6666666666666666,
              "#000017"
             ],
             [
              0.7777777777777778,
              "#000018"
             ],
             [
              0.8888888888888888,
              "#000019"
             ],
             [
              1,
              "#000020"
             ]
            ],
            "type": "histogram2d"
           }
          ],
          "icicle": [
           {
            "textfont": {
             "color": "white"
            },
            "type": "icicle"
           }
          ],
          "sankey": [
           {
            "textfont": {
             "color": "#000036"
            },
            "type": "sankey"
           }
          ],
          "scatter": [
           {
            "marker": {
             "line": {
              "width": 0
             }
            },
            "type": "scatter"
           }
          ],
          "table": [
           {
            "cells": {
             "fill": {
              "color": "#000038"
             },
             "font": {
              "color": "#000037"
             },
             "line": {
              "color": "#000039"
             }
            },
            "header": {
             "fill": {
              "color": "#000040"
             },
             "font": {
              "color": "#000036"
             },
             "line": {
              "color": "#000039"
             }
            },
            "type": "table"
           }
          ],
          "waterfall": [
           {
            "connector": {
             "line": {
              "color": "#000036",
              "width": 2
             }
            },
            "decreasing": {
             "marker": {
              "color": "#000033"
             }
            },
            "increasing": {
             "marker": {
              "color": "#000032"
             }
            },
            "totals": {
             "marker": {
              "color": "#000034"
             }
            },
            "type": "waterfall"
           }
          ]
         },
         "layout": {
          "coloraxis": {
           "colorscale": [
            [
             0,
             "#000011"
            ],
            [
             0.1111111111111111,
             "#000012"
            ],
            [
             0.2222222222222222,
             "#000013"
            ],
            [
             0.3333333333333333,
             "#000014"
            ],
            [
             0.4444444444444444,
             "#000015"
            ],
            [
             0.5555555555555556,
             "#000016"
            ],
            [
             0.6666666666666666,
             "#000017"
            ],
            [
             0.7777777777777778,
             "#000018"
            ],
            [
             0.8888888888888888,
             "#000019"
            ],
            [
             1,
             "#000020"
            ]
           ]
          },
          "colorscale": {
           "diverging": [
            [
             0,
             "#000021"
            ],
            [
             0.1,
             "#000022"
            ],
            [
             0.2,
             "#000023"
            ],
            [
             0.3,
             "#000024"
            ],
            [
             0.4,
             "#000025"
            ],
            [
             0.5,
             "#000026"
            ],
            [
             0.6,
             "#000027"
            ],
            [
             0.7,
             "#000028"
            ],
            [
             0.8,
             "#000029"
            ],
            [
             0.9,
             "#000030"
            ],
            [
             1,
             "#000031"
            ]
           ],
           "sequential": [
            [
             0,
             "#000011"
            ],
            [
             0.1111111111111111,
             "#000012"
            ],
            [
             0.2222222222222222,
             "#000013"
            ],
            [
             0.3333333333333333,
             "#000014"
            ],
            [
             0.4444444444444444,
             "#000015"
            ],
            [
             0.5555555555555556,
             "#000016"
            ],
            [
             0.6666666666666666,
             "#000017"
            ],
            [
             0.7777777777777778,
             "#000018"
            ],
            [
             0.8888888888888888,
             "#000019"
            ],
            [
             1,
             "#000020"
            ]
           ],
           "sequentialminus": [
            [
             0,
             "#000011"
            ],
            [
             0.1111111111111111,
             "#000012"
            ],
            [
             0.2222222222222222,
             "#000013"
            ],
            [
             0.3333333333333333,
             "#000014"
            ],
            [
             0.4444444444444444,
             "#000015"
            ],
            [
             0.5555555555555556,
             "#000016"
            ],
            [
             0.6666666666666666,
             "#000017"
            ],
            [
             0.7777777777777778,
             "#000018"
            ],
            [
             0.8888888888888888,
             "#000019"
            ],
            [
             1,
             "#000020"
            ]
           ]
          },
          "colorway": [
           "#000001",
           "#000002",
           "#000003",
           "#000004",
           "#000005",
           "#000006",
           "#000007",
           "#000008",
           "#000009",
           "#000010"
          ]
         }
        },
        "title": {
         "text": "TOP 1O OF REGISTEREDUSERS"
        },
        "width": 600,
        "xaxis": {
         "anchor": "y",
         "domain": [
          0,
          1
         ],
         "title": {
          "text": "Districts"
         }
        },
        "yaxis": {
         "anchor": "x",
         "domain": [
          0,
          1
         ],
         "title": {
          "text": "registeredUsers"
         }
        }
       }
      }
     },
     "metadata": {},
     "output_type": "display_data"
    },
    {
     "data": {
      "application/vnd.plotly.v1+json": {
       "config": {
        "plotlyServerURL": "https://plot.ly"
       },
       "data": [
        {
         "alignmentgroup": "True",
         "hovertemplate": "<b>%{hovertext}</b><br><br>Districts=%{x}<br>registeredUsers=%{y}<extra></extra>",
         "hovertext": [
          "perambalur district",
          "ariyalur district",
          "thiruvarur district",
          "the nilgiris district",
          "tenkasi district",
          "ramanathapuram district",
          "karur district",
          "nagapattinam district",
          "pudukkottai district",
          "sivaganga district"
         ],
         "legendgroup": "",
         "marker": {
          "color": "rgb(237, 239, 93)",
          "pattern": {
           "shape": ""
          }
         },
         "name": "",
         "offsetgroup": "",
         "orientation": "v",
         "showlegend": false,
         "textposition": "auto",
         "type": "bar",
         "x": [
          "perambalur district",
          "ariyalur district",
          "thiruvarur district",
          "the nilgiris district",
          "tenkasi district",
          "ramanathapuram district",
          "karur district",
          "nagapattinam district",
          "pudukkottai district",
          "sivaganga district"
         ],
         "xaxis": "x",
         "y": [
          10324925,
          12311460,
          15551905,
          15904450,
          18768115,
          19241105,
          20627985,
          20756005,
          21591190,
          22042620
         ],
         "yaxis": "y"
        }
       ],
       "layout": {
        "barmode": "relative",
        "height": 650,
        "legend": {
         "tracegroupgap": 0
        },
        "template": {
         "data": {
          "candlestick": [
           {
            "decreasing": {
             "line": {
              "color": "#000033"
             }
            },
            "increasing": {
             "line": {
              "color": "#000032"
             }
            },
            "type": "candlestick"
           }
          ],
          "contour": [
           {
            "colorscale": [
             [
              0,
              "#000011"
             ],
             [
              0.1111111111111111,
              "#000012"
             ],
             [
              0.2222222222222222,
              "#000013"
             ],
             [
              0.3333333333333333,
              "#000014"
             ],
             [
              0.4444444444444444,
              "#000015"
             ],
             [
              0.5555555555555556,
              "#000016"
             ],
             [
              0.6666666666666666,
              "#000017"
             ],
             [
              0.7777777777777778,
              "#000018"
             ],
             [
              0.8888888888888888,
              "#000019"
             ],
             [
              1,
              "#000020"
             ]
            ],
            "type": "contour"
           }
          ],
          "contourcarpet": [
           {
            "colorscale": [
             [
              0,
              "#000011"
             ],
             [
              0.1111111111111111,
              "#000012"
             ],
             [
              0.2222222222222222,
              "#000013"
             ],
             [
              0.3333333333333333,
              "#000014"
             ],
             [
              0.4444444444444444,
              "#000015"
             ],
             [
              0.5555555555555556,
              "#000016"
             ],
             [
              0.6666666666666666,
              "#000017"
             ],
             [
              0.7777777777777778,
              "#000018"
             ],
             [
              0.8888888888888888,
              "#000019"
             ],
             [
              1,
              "#000020"
             ]
            ],
            "type": "contourcarpet"
           }
          ],
          "heatmap": [
           {
            "colorscale": [
             [
              0,
              "#000011"
             ],
             [
              0.1111111111111111,
              "#000012"
             ],
             [
              0.2222222222222222,
              "#000013"
             ],
             [
              0.3333333333333333,
              "#000014"
             ],
             [
              0.4444444444444444,
              "#000015"
             ],
             [
              0.5555555555555556,
              "#000016"
             ],
             [
              0.6666666666666666,
              "#000017"
             ],
             [
              0.7777777777777778,
              "#000018"
             ],
             [
              0.8888888888888888,
              "#000019"
             ],
             [
              1,
              "#000020"
             ]
            ],
            "type": "heatmap"
           }
          ],
          "histogram2d": [
           {
            "colorscale": [
             [
              0,
              "#000011"
             ],
             [
              0.1111111111111111,
              "#000012"
             ],
             [
              0.2222222222222222,
              "#000013"
             ],
             [
              0.3333333333333333,
              "#000014"
             ],
             [
              0.4444444444444444,
              "#000015"
             ],
             [
              0.5555555555555556,
              "#000016"
             ],
             [
              0.6666666666666666,
              "#000017"
             ],
             [
              0.7777777777777778,
              "#000018"
             ],
             [
              0.8888888888888888,
              "#000019"
             ],
             [
              1,
              "#000020"
             ]
            ],
            "type": "histogram2d"
           }
          ],
          "icicle": [
           {
            "textfont": {
             "color": "white"
            },
            "type": "icicle"
           }
          ],
          "sankey": [
           {
            "textfont": {
             "color": "#000036"
            },
            "type": "sankey"
           }
          ],
          "scatter": [
           {
            "marker": {
             "line": {
              "width": 0
             }
            },
            "type": "scatter"
           }
          ],
          "table": [
           {
            "cells": {
             "fill": {
              "color": "#000038"
             },
             "font": {
              "color": "#000037"
             },
             "line": {
              "color": "#000039"
             }
            },
            "header": {
             "fill": {
              "color": "#000040"
             },
             "font": {
              "color": "#000036"
             },
             "line": {
              "color": "#000039"
             }
            },
            "type": "table"
           }
          ],
          "waterfall": [
           {
            "connector": {
             "line": {
              "color": "#000036",
              "width": 2
             }
            },
            "decreasing": {
             "marker": {
              "color": "#000033"
             }
            },
            "increasing": {
             "marker": {
              "color": "#000032"
             }
            },
            "totals": {
             "marker": {
              "color": "#000034"
             }
            },
            "type": "waterfall"
           }
          ]
         },
         "layout": {
          "coloraxis": {
           "colorscale": [
            [
             0,
             "#000011"
            ],
            [
             0.1111111111111111,
             "#000012"
            ],
            [
             0.2222222222222222,
             "#000013"
            ],
            [
             0.3333333333333333,
             "#000014"
            ],
            [
             0.4444444444444444,
             "#000015"
            ],
            [
             0.5555555555555556,
             "#000016"
            ],
            [
             0.6666666666666666,
             "#000017"
            ],
            [
             0.7777777777777778,
             "#000018"
            ],
            [
             0.8888888888888888,
             "#000019"
            ],
            [
             1,
             "#000020"
            ]
           ]
          },
          "colorscale": {
           "diverging": [
            [
             0,
             "#000021"
            ],
            [
             0.1,
             "#000022"
            ],
            [
             0.2,
             "#000023"
            ],
            [
             0.3,
             "#000024"
            ],
            [
             0.4,
             "#000025"
            ],
            [
             0.5,
             "#000026"
            ],
            [
             0.6,
             "#000027"
            ],
            [
             0.7,
             "#000028"
            ],
            [
             0.8,
             "#000029"
            ],
            [
             0.9,
             "#000030"
            ],
            [
             1,
             "#000031"
            ]
           ],
           "sequential": [
            [
             0,
             "#000011"
            ],
            [
             0.1111111111111111,
             "#000012"
            ],
            [
             0.2222222222222222,
             "#000013"
            ],
            [
             0.3333333333333333,
             "#000014"
            ],
            [
             0.4444444444444444,
             "#000015"
            ],
            [
             0.5555555555555556,
             "#000016"
            ],
            [
             0.6666666666666666,
             "#000017"
            ],
            [
             0.7777777777777778,
             "#000018"
            ],
            [
             0.8888888888888888,
             "#000019"
            ],
            [
             1,
             "#000020"
            ]
           ],
           "sequentialminus": [
            [
             0,
             "#000011"
            ],
            [
             0.1111111111111111,
             "#000012"
            ],
            [
             0.2222222222222222,
             "#000013"
            ],
            [
             0.3333333333333333,
             "#000014"
            ],
            [
             0.4444444444444444,
             "#000015"
            ],
            [
             0.5555555555555556,
             "#000016"
            ],
            [
             0.6666666666666666,
             "#000017"
            ],
            [
             0.7777777777777778,
             "#000018"
            ],
            [
             0.8888888888888888,
             "#000019"
            ],
            [
             1,
             "#000020"
            ]
           ]
          },
          "colorway": [
           "#000001",
           "#000002",
           "#000003",
           "#000004",
           "#000005",
           "#000006",
           "#000007",
           "#000008",
           "#000009",
           "#000010"
          ]
         }
        },
        "title": {
         "text": "LAST 10 OF REGISTEREDUSERS"
        },
        "width": 600,
        "xaxis": {
         "anchor": "y",
         "domain": [
          0,
          1
         ],
         "title": {
          "text": "Districts"
         }
        },
        "yaxis": {
         "anchor": "x",
         "domain": [
          0,
          1
         ],
         "title": {
          "text": "registeredUsers"
         }
        }
       }
      }
     },
     "metadata": {},
     "output_type": "display_data"
    },
    {
     "data": {
      "application/vnd.plotly.v1+json": {
       "config": {
        "plotlyServerURL": "https://plot.ly"
       },
       "data": [
        {
         "alignmentgroup": "True",
         "hovertemplate": "<b>%{hovertext}</b><br><br>registeredUsers=%{x}<br>Districts=%{y}<extra></extra>",
         "hovertext": [
          "perambalur district",
          "ariyalur district",
          "thiruvarur district",
          "the nilgiris district",
          "tenkasi district",
          "ramanathapuram district",
          "karur district",
          "nagapattinam district",
          "pudukkottai district",
          "sivaganga district",
          "theni district",
          "kallakkurichi district",
          "tirupathur district",
          "thoothukkudi district",
          "ranipet district",
          "tirunelveli district",
          "virudhunagar district",
          "kanniyakumari district",
          "viluppuram district",
          "namakkal district",
          "dharmapuri district",
          "dindigul district",
          "thanjavur district",
          "vellore district",
          "tiruvannamalai district",
          "cuddalore district",
          "erode district",
          "tiruchirappalli district",
          "krishnagiri district",
          "madurai district",
          "salem district",
          "tiruppur district",
          "kancheepuram district",
          "chengalpattu district",
          "coimbatore district",
          "thiruvallur district",
          "chennai district"
         ],
         "legendgroup": "",
         "marker": {
          "color": "rgb(255,0,0)",
          "pattern": {
           "shape": ""
          }
         },
         "name": "",
         "offsetgroup": "",
         "orientation": "h",
         "showlegend": false,
         "textposition": "auto",
         "type": "bar",
         "x": [
          82599.4,
          98491.68,
          124415.24,
          127235.6,
          150144.92,
          153928.84,
          165023.88,
          166048.04,
          172729.52,
          176340.96,
          180834.64,
          225297.16,
          235006.76,
          241808.68,
          244255.24,
          250317.76,
          255681.08,
          273367.36,
          281991.44,
          298849.76,
          302457.6,
          324984.8,
          329891.76,
          338006.92,
          363212.96,
          391534.88,
          438596.36,
          516200.04,
          580200.12,
          613916.24,
          679792.56,
          757755.44,
          889851.44,
          1257014.28,
          1273901.24,
          1503200.16,
          1844558.16
         ],
         "xaxis": "x",
         "y": [
          "perambalur district",
          "ariyalur district",
          "thiruvarur district",
          "the nilgiris district",
          "tenkasi district",
          "ramanathapuram district",
          "karur district",
          "nagapattinam district",
          "pudukkottai district",
          "sivaganga district",
          "theni district",
          "kallakkurichi district",
          "tirupathur district",
          "thoothukkudi district",
          "ranipet district",
          "tirunelveli district",
          "virudhunagar district",
          "kanniyakumari district",
          "viluppuram district",
          "namakkal district",
          "dharmapuri district",
          "dindigul district",
          "thanjavur district",
          "vellore district",
          "tiruvannamalai district",
          "cuddalore district",
          "erode district",
          "tiruchirappalli district",
          "krishnagiri district",
          "madurai district",
          "salem district",
          "tiruppur district",
          "kancheepuram district",
          "chengalpattu district",
          "coimbatore district",
          "thiruvallur district",
          "chennai district"
         ],
         "yaxis": "y"
        }
       ],
       "layout": {
        "barmode": "relative",
        "height": 800,
        "legend": {
         "tracegroupgap": 0
        },
        "template": {
         "data": {
          "candlestick": [
           {
            "decreasing": {
             "line": {
              "color": "#000033"
             }
            },
            "increasing": {
             "line": {
              "color": "#000032"
             }
            },
            "type": "candlestick"
           }
          ],
          "contour": [
           {
            "colorscale": [
             [
              0,
              "#000011"
             ],
             [
              0.1111111111111111,
              "#000012"
             ],
             [
              0.2222222222222222,
              "#000013"
             ],
             [
              0.3333333333333333,
              "#000014"
             ],
             [
              0.4444444444444444,
              "#000015"
             ],
             [
              0.5555555555555556,
              "#000016"
             ],
             [
              0.6666666666666666,
              "#000017"
             ],
             [
              0.7777777777777778,
              "#000018"
             ],
             [
              0.8888888888888888,
              "#000019"
             ],
             [
              1,
              "#000020"
             ]
            ],
            "type": "contour"
           }
          ],
          "contourcarpet": [
           {
            "colorscale": [
             [
              0,
              "#000011"
             ],
             [
              0.1111111111111111,
              "#000012"
             ],
             [
              0.2222222222222222,
              "#000013"
             ],
             [
              0.3333333333333333,
              "#000014"
             ],
             [
              0.4444444444444444,
              "#000015"
             ],
             [
              0.5555555555555556,
              "#000016"
             ],
             [
              0.6666666666666666,
              "#000017"
             ],
             [
              0.7777777777777778,
              "#000018"
             ],
             [
              0.8888888888888888,
              "#000019"
             ],
             [
              1,
              "#000020"
             ]
            ],
            "type": "contourcarpet"
           }
          ],
          "heatmap": [
           {
            "colorscale": [
             [
              0,
              "#000011"
             ],
             [
              0.1111111111111111,
              "#000012"
             ],
             [
              0.2222222222222222,
              "#000013"
             ],
             [
              0.3333333333333333,
              "#000014"
             ],
             [
              0.4444444444444444,
              "#000015"
             ],
             [
              0.5555555555555556,
              "#000016"
             ],
             [
              0.6666666666666666,
              "#000017"
             ],
             [
              0.7777777777777778,
              "#000018"
             ],
             [
              0.8888888888888888,
              "#000019"
             ],
             [
              1,
              "#000020"
             ]
            ],
            "type": "heatmap"
           }
          ],
          "histogram2d": [
           {
            "colorscale": [
             [
              0,
              "#000011"
             ],
             [
              0.1111111111111111,
              "#000012"
             ],
             [
              0.2222222222222222,
              "#000013"
             ],
             [
              0.3333333333333333,
              "#000014"
             ],
             [
              0.4444444444444444,
              "#000015"
             ],
             [
              0.5555555555555556,
              "#000016"
             ],
             [
              0.6666666666666666,
              "#000017"
             ],
             [
              0.7777777777777778,
              "#000018"
             ],
             [
              0.8888888888888888,
              "#000019"
             ],
             [
              1,
              "#000020"
             ]
            ],
            "type": "histogram2d"
           }
          ],
          "icicle": [
           {
            "textfont": {
             "color": "white"
            },
            "type": "icicle"
           }
          ],
          "sankey": [
           {
            "textfont": {
             "color": "#000036"
            },
            "type": "sankey"
           }
          ],
          "scatter": [
           {
            "marker": {
             "line": {
              "width": 0
             }
            },
            "type": "scatter"
           }
          ],
          "table": [
           {
            "cells": {
             "fill": {
              "color": "#000038"
             },
             "font": {
              "color": "#000037"
             },
             "line": {
              "color": "#000039"
             }
            },
            "header": {
             "fill": {
              "color": "#000040"
             },
             "font": {
              "color": "#000036"
             },
             "line": {
              "color": "#000039"
             }
            },
            "type": "table"
           }
          ],
          "waterfall": [
           {
            "connector": {
             "line": {
              "color": "#000036",
              "width": 2
             }
            },
            "decreasing": {
             "marker": {
              "color": "#000033"
             }
            },
            "increasing": {
             "marker": {
              "color": "#000032"
             }
            },
            "totals": {
             "marker": {
              "color": "#000034"
             }
            },
            "type": "waterfall"
           }
          ]
         },
         "layout": {
          "coloraxis": {
           "colorscale": [
            [
             0,
             "#000011"
            ],
            [
             0.1111111111111111,
             "#000012"
            ],
            [
             0.2222222222222222,
             "#000013"
            ],
            [
             0.3333333333333333,
             "#000014"
            ],
            [
             0.4444444444444444,
             "#000015"
            ],
            [
             0.5555555555555556,
             "#000016"
            ],
            [
             0.6666666666666666,
             "#000017"
            ],
            [
             0.7777777777777778,
             "#000018"
            ],
            [
             0.8888888888888888,
             "#000019"
            ],
            [
             1,
             "#000020"
            ]
           ]
          },
          "colorscale": {
           "diverging": [
            [
             0,
             "#000021"
            ],
            [
             0.1,
             "#000022"
            ],
            [
             0.2,
             "#000023"
            ],
            [
             0.3,
             "#000024"
            ],
            [
             0.4,
             "#000025"
            ],
            [
             0.5,
             "#000026"
            ],
            [
             0.6,
             "#000027"
            ],
            [
             0.7,
             "#000028"
            ],
            [
             0.8,
             "#000029"
            ],
            [
             0.9,
             "#000030"
            ],
            [
             1,
             "#000031"
            ]
           ],
           "sequential": [
            [
             0,
             "#000011"
            ],
            [
             0.1111111111111111,
             "#000012"
            ],
            [
             0.2222222222222222,
             "#000013"
            ],
            [
             0.3333333333333333,
             "#000014"
            ],
            [
             0.4444444444444444,
             "#000015"
            ],
            [
             0.5555555555555556,
             "#000016"
            ],
            [
             0.6666666666666666,
             "#000017"
            ],
            [
             0.7777777777777778,
             "#000018"
            ],
            [
             0.8888888888888888,
             "#000019"
            ],
            [
             1,
             "#000020"
            ]
           ],
           "sequentialminus": [
            [
             0,
             "#000011"
            ],
            [
             0.1111111111111111,
             "#000012"
            ],
            [
             0.2222222222222222,
             "#000013"
            ],
            [
             0.3333333333333333,
             "#000014"
            ],
            [
             0.4444444444444444,
             "#000015"
            ],
            [
             0.5555555555555556,
             "#000016"
            ],
            [
             0.6666666666666666,
             "#000017"
            ],
            [
             0.7777777777777778,
             "#000018"
            ],
            [
             0.8888888888888888,
             "#000019"
            ],
            [
             1,
             "#000020"
            ]
           ]
          },
          "colorway": [
           "#000001",
           "#000002",
           "#000003",
           "#000004",
           "#000005",
           "#000006",
           "#000007",
           "#000008",
           "#000009",
           "#000010"
          ]
         }
        },
        "title": {
         "text": "AVG OF REGISTERED USERS"
        },
        "width": 1000,
        "xaxis": {
         "anchor": "y",
         "domain": [
          0,
          1
         ],
         "title": {
          "text": "registeredUsers"
         }
        },
        "yaxis": {
         "anchor": "x",
         "domain": [
          0,
          1
         ],
         "title": {
          "text": "Districts"
         }
        }
       }
      }
     },
     "metadata": {},
     "output_type": "display_data"
    }
   ],
   "source": [
    "top_chart_registered_user(\"mapped_user\",\"Tamil Nadu\")\n"
   ]
  },
  {
   "cell_type": "code",
   "execution_count": 12,
   "metadata": {},
   "outputs": [
    {
     "data": {
      "application/vnd.plotly.v1+json": {
       "config": {
        "plotlyServerURL": "https://plot.ly"
       },
       "data": [
        {
         "alignmentgroup": "True",
         "hovertemplate": "<b>%{hovertext}</b><br><br>States=%{x}<br>Transaction_count=%{y}<extra></extra>",
         "hovertext": [
          "Maharashtra",
          "Karnataka",
          "Telangana",
          "Andhra Pradesh",
          "Uttar Pradesh",
          "Rajasthan",
          "Madhya Pradesh",
          "Bihar",
          "Delhi",
          "West Bengal"
         ],
         "legendgroup": "",
         "marker": {
          "color": "rgb(36, 86, 104)",
          "pattern": {
           "shape": ""
          }
         },
         "name": "",
         "offsetgroup": "",
         "orientation": "v",
         "showlegend": false,
         "textposition": "auto",
         "type": "bar",
         "x": [
          "Maharashtra",
          "Karnataka",
          "Telangana",
          "Andhra Pradesh",
          "Uttar Pradesh",
          "Rajasthan",
          "Madhya Pradesh",
          "Bihar",
          "Delhi",
          "West Bengal"
         ],
         "xaxis": "x",
         "y": [
          132000468576,
          127276457472,
          109948984782,
          75604545102,
          69343313826,
          67864849260,
          56481382260,
          40287567246,
          35774331852,
          35393801118
         ],
         "yaxis": "y"
        }
       ],
       "layout": {
        "barmode": "relative",
        "height": 650,
        "legend": {
         "tracegroupgap": 0
        },
        "template": {
         "data": {
          "candlestick": [
           {
            "decreasing": {
             "line": {
              "color": "#000033"
             }
            },
            "increasing": {
             "line": {
              "color": "#000032"
             }
            },
            "type": "candlestick"
           }
          ],
          "contour": [
           {
            "colorscale": [
             [
              0,
              "#000011"
             ],
             [
              0.1111111111111111,
              "#000012"
             ],
             [
              0.2222222222222222,
              "#000013"
             ],
             [
              0.3333333333333333,
              "#000014"
             ],
             [
              0.4444444444444444,
              "#000015"
             ],
             [
              0.5555555555555556,
              "#000016"
             ],
             [
              0.6666666666666666,
              "#000017"
             ],
             [
              0.7777777777777778,
              "#000018"
             ],
             [
              0.8888888888888888,
              "#000019"
             ],
             [
              1,
              "#000020"
             ]
            ],
            "type": "contour"
           }
          ],
          "contourcarpet": [
           {
            "colorscale": [
             [
              0,
              "#000011"
             ],
             [
              0.1111111111111111,
              "#000012"
             ],
             [
              0.2222222222222222,
              "#000013"
             ],
             [
              0.3333333333333333,
              "#000014"
             ],
             [
              0.4444444444444444,
              "#000015"
             ],
             [
              0.5555555555555556,
              "#000016"
             ],
             [
              0.6666666666666666,
              "#000017"
             ],
             [
              0.7777777777777778,
              "#000018"
             ],
             [
              0.8888888888888888,
              "#000019"
             ],
             [
              1,
              "#000020"
             ]
            ],
            "type": "contourcarpet"
           }
          ],
          "heatmap": [
           {
            "colorscale": [
             [
              0,
              "#000011"
             ],
             [
              0.1111111111111111,
              "#000012"
             ],
             [
              0.2222222222222222,
              "#000013"
             ],
             [
              0.3333333333333333,
              "#000014"
             ],
             [
              0.4444444444444444,
              "#000015"
             ],
             [
              0.5555555555555556,
              "#000016"
             ],
             [
              0.6666666666666666,
              "#000017"
             ],
             [
              0.7777777777777778,
              "#000018"
             ],
             [
              0.8888888888888888,
              "#000019"
             ],
             [
              1,
              "#000020"
             ]
            ],
            "type": "heatmap"
           }
          ],
          "histogram2d": [
           {
            "colorscale": [
             [
              0,
              "#000011"
             ],
             [
              0.1111111111111111,
              "#000012"
             ],
             [
              0.2222222222222222,
              "#000013"
             ],
             [
              0.3333333333333333,
              "#000014"
             ],
             [
              0.4444444444444444,
              "#000015"
             ],
             [
              0.5555555555555556,
              "#000016"
             ],
             [
              0.6666666666666666,
              "#000017"
             ],
             [
              0.7777777777777778,
              "#000018"
             ],
             [
              0.8888888888888888,
              "#000019"
             ],
             [
              1,
              "#000020"
             ]
            ],
            "type": "histogram2d"
           }
          ],
          "icicle": [
           {
            "textfont": {
             "color": "white"
            },
            "type": "icicle"
           }
          ],
          "sankey": [
           {
            "textfont": {
             "color": "#000036"
            },
            "type": "sankey"
           }
          ],
          "scatter": [
           {
            "marker": {
             "line": {
              "width": 0
             }
            },
            "type": "scatter"
           }
          ],
          "table": [
           {
            "cells": {
             "fill": {
              "color": "#000038"
             },
             "font": {
              "color": "#000037"
             },
             "line": {
              "color": "#000039"
             }
            },
            "header": {
             "fill": {
              "color": "#000040"
             },
             "font": {
              "color": "#000036"
             },
             "line": {
              "color": "#000039"
             }
            },
            "type": "table"
           }
          ],
          "waterfall": [
           {
            "connector": {
             "line": {
              "color": "#000036",
              "width": 2
             }
            },
            "decreasing": {
             "marker": {
              "color": "#000033"
             }
            },
            "increasing": {
             "marker": {
              "color": "#000032"
             }
            },
            "totals": {
             "marker": {
              "color": "#000034"
             }
            },
            "type": "waterfall"
           }
          ]
         },
         "layout": {
          "coloraxis": {
           "colorscale": [
            [
             0,
             "#000011"
            ],
            [
             0.1111111111111111,
             "#000012"
            ],
            [
             0.2222222222222222,
             "#000013"
            ],
            [
             0.3333333333333333,
             "#000014"
            ],
            [
             0.4444444444444444,
             "#000015"
            ],
            [
             0.5555555555555556,
             "#000016"
            ],
            [
             0.6666666666666666,
             "#000017"
            ],
            [
             0.7777777777777778,
             "#000018"
            ],
            [
             0.8888888888888888,
             "#000019"
            ],
            [
             1,
             "#000020"
            ]
           ]
          },
          "colorscale": {
           "diverging": [
            [
             0,
             "#000021"
            ],
            [
             0.1,
             "#000022"
            ],
            [
             0.2,
             "#000023"
            ],
            [
             0.3,
             "#000024"
            ],
            [
             0.4,
             "#000025"
            ],
            [
             0.5,
             "#000026"
            ],
            [
             0.6,
             "#000027"
            ],
            [
             0.7,
             "#000028"
            ],
            [
             0.8,
             "#000029"
            ],
            [
             0.9,
             "#000030"
            ],
            [
             1,
             "#000031"
            ]
           ],
           "sequential": [
            [
             0,
             "#000011"
            ],
            [
             0.1111111111111111,
             "#000012"
            ],
            [
             0.2222222222222222,
             "#000013"
            ],
            [
             0.3333333333333333,
             "#000014"
            ],
            [
             0.4444444444444444,
             "#000015"
            ],
            [
             0.5555555555555556,
             "#000016"
            ],
            [
             0.6666666666666666,
             "#000017"
            ],
            [
             0.7777777777777778,
             "#000018"
            ],
            [
             0.8888888888888888,
             "#000019"
            ],
            [
             1,
             "#000020"
            ]
           ],
           "sequentialminus": [
            [
             0,
             "#000011"
            ],
            [
             0.1111111111111111,
             "#000012"
            ],
            [
             0.2222222222222222,
             "#000013"
            ],
            [
             0.3333333333333333,
             "#000014"
            ],
            [
             0.4444444444444444,
             "#000015"
            ],
            [
             0.5555555555555556,
             "#000016"
            ],
            [
             0.6666666666666666,
             "#000017"
            ],
            [
             0.7777777777777778,
             "#000018"
            ],
            [
             0.8888888888888888,
             "#000019"
            ],
            [
             1,
             "#000020"
            ]
           ]
          },
          "colorway": [
           "#000001",
           "#000002",
           "#000003",
           "#000004",
           "#000005",
           "#000006",
           "#000007",
           "#000008",
           "#000009",
           "#000010"
          ]
         }
        },
        "title": {
         "text": "TRANSACTION COUNT"
        },
        "width": 600,
        "xaxis": {
         "anchor": "y",
         "domain": [
          0,
          1
         ],
         "title": {
          "text": "States"
         }
        },
        "yaxis": {
         "anchor": "x",
         "domain": [
          0,
          1
         ],
         "title": {
          "text": "Transaction_count"
         }
        }
       }
      }
     },
     "metadata": {},
     "output_type": "display_data"
    },
    {
     "data": {
      "application/vnd.plotly.v1+json": {
       "config": {
        "plotlyServerURL": "https://plot.ly"
       },
       "data": [
        {
         "alignmentgroup": "True",
         "hovertemplate": "<b>%{hovertext}</b><br><br>States=%{x}<br>Transaction_count=%{y}<extra></extra>",
         "hovertext": [
          "Lakshadweep",
          "Mizoram",
          "Ladakh",
          "Andaman & Nicobar",
          "Nagaland",
          "Sikkim",
          "Meghalaya",
          "Manipur",
          "Tripura",
          "Arunachal Pradesh"
         ],
         "legendgroup": "",
         "marker": {
          "color": "rgb(237, 239, 93)",
          "pattern": {
           "shape": ""
          }
         },
         "name": "",
         "offsetgroup": "",
         "orientation": "v",
         "showlegend": false,
         "textposition": "auto",
         "type": "bar",
         "x": [
          "Lakshadweep",
          "Mizoram",
          "Ladakh",
          "Andaman & Nicobar",
          "Nagaland",
          "Sikkim",
          "Meghalaya",
          "Manipur",
          "Tripura",
          "Arunachal Pradesh"
         ],
         "xaxis": "x",
         "y": [
          2517924,
          74976132,
          128360082,
          142263462,
          205601136,
          252251214,
          307615524,
          341018982,
          466231254,
          537026316
         ],
         "yaxis": "y"
        }
       ],
       "layout": {
        "barmode": "relative",
        "height": 650,
        "legend": {
         "tracegroupgap": 0
        },
        "template": {
         "data": {
          "candlestick": [
           {
            "decreasing": {
             "line": {
              "color": "#000033"
             }
            },
            "increasing": {
             "line": {
              "color": "#000032"
             }
            },
            "type": "candlestick"
           }
          ],
          "contour": [
           {
            "colorscale": [
             [
              0,
              "#000011"
             ],
             [
              0.1111111111111111,
              "#000012"
             ],
             [
              0.2222222222222222,
              "#000013"
             ],
             [
              0.3333333333333333,
              "#000014"
             ],
             [
              0.4444444444444444,
              "#000015"
             ],
             [
              0.5555555555555556,
              "#000016"
             ],
             [
              0.6666666666666666,
              "#000017"
             ],
             [
              0.7777777777777778,
              "#000018"
             ],
             [
              0.8888888888888888,
              "#000019"
             ],
             [
              1,
              "#000020"
             ]
            ],
            "type": "contour"
           }
          ],
          "contourcarpet": [
           {
            "colorscale": [
             [
              0,
              "#000011"
             ],
             [
              0.1111111111111111,
              "#000012"
             ],
             [
              0.2222222222222222,
              "#000013"
             ],
             [
              0.3333333333333333,
              "#000014"
             ],
             [
              0.4444444444444444,
              "#000015"
             ],
             [
              0.5555555555555556,
              "#000016"
             ],
             [
              0.6666666666666666,
              "#000017"
             ],
             [
              0.7777777777777778,
              "#000018"
             ],
             [
              0.8888888888888888,
              "#000019"
             ],
             [
              1,
              "#000020"
             ]
            ],
            "type": "contourcarpet"
           }
          ],
          "heatmap": [
           {
            "colorscale": [
             [
              0,
              "#000011"
             ],
             [
              0.1111111111111111,
              "#000012"
             ],
             [
              0.2222222222222222,
              "#000013"
             ],
             [
              0.3333333333333333,
              "#000014"
             ],
             [
              0.4444444444444444,
              "#000015"
             ],
             [
              0.5555555555555556,
              "#000016"
             ],
             [
              0.6666666666666666,
              "#000017"
             ],
             [
              0.7777777777777778,
              "#000018"
             ],
             [
              0.8888888888888888,
              "#000019"
             ],
             [
              1,
              "#000020"
             ]
            ],
            "type": "heatmap"
           }
          ],
          "histogram2d": [
           {
            "colorscale": [
             [
              0,
              "#000011"
             ],
             [
              0.1111111111111111,
              "#000012"
             ],
             [
              0.2222222222222222,
              "#000013"
             ],
             [
              0.3333333333333333,
              "#000014"
             ],
             [
              0.4444444444444444,
              "#000015"
             ],
             [
              0.5555555555555556,
              "#000016"
             ],
             [
              0.6666666666666666,
              "#000017"
             ],
             [
              0.7777777777777778,
              "#000018"
             ],
             [
              0.8888888888888888,
              "#000019"
             ],
             [
              1,
              "#000020"
             ]
            ],
            "type": "histogram2d"
           }
          ],
          "icicle": [
           {
            "textfont": {
             "color": "white"
            },
            "type": "icicle"
           }
          ],
          "sankey": [
           {
            "textfont": {
             "color": "#000036"
            },
            "type": "sankey"
           }
          ],
          "scatter": [
           {
            "marker": {
             "line": {
              "width": 0
             }
            },
            "type": "scatter"
           }
          ],
          "table": [
           {
            "cells": {
             "fill": {
              "color": "#000038"
             },
             "font": {
              "color": "#000037"
             },
             "line": {
              "color": "#000039"
             }
            },
            "header": {
             "fill": {
              "color": "#000040"
             },
             "font": {
              "color": "#000036"
             },
             "line": {
              "color": "#000039"
             }
            },
            "type": "table"
           }
          ],
          "waterfall": [
           {
            "connector": {
             "line": {
              "color": "#000036",
              "width": 2
             }
            },
            "decreasing": {
             "marker": {
              "color": "#000033"
             }
            },
            "increasing": {
             "marker": {
              "color": "#000032"
             }
            },
            "totals": {
             "marker": {
              "color": "#000034"
             }
            },
            "type": "waterfall"
           }
          ]
         },
         "layout": {
          "coloraxis": {
           "colorscale": [
            [
             0,
             "#000011"
            ],
            [
             0.1111111111111111,
             "#000012"
            ],
            [
             0.2222222222222222,
             "#000013"
            ],
            [
             0.3333333333333333,
             "#000014"
            ],
            [
             0.4444444444444444,
             "#000015"
            ],
            [
             0.5555555555555556,
             "#000016"
            ],
            [
             0.6666666666666666,
             "#000017"
            ],
            [
             0.7777777777777778,
             "#000018"
            ],
            [
             0.8888888888888888,
             "#000019"
            ],
            [
             1,
             "#000020"
            ]
           ]
          },
          "colorscale": {
           "diverging": [
            [
             0,
             "#000021"
            ],
            [
             0.1,
             "#000022"
            ],
            [
             0.2,
             "#000023"
            ],
            [
             0.3,
             "#000024"
            ],
            [
             0.4,
             "#000025"
            ],
            [
             0.5,
             "#000026"
            ],
            [
             0.6,
             "#000027"
            ],
            [
             0.7,
             "#000028"
            ],
            [
             0.8,
             "#000029"
            ],
            [
             0.9,
             "#000030"
            ],
            [
             1,
             "#000031"
            ]
           ],
           "sequential": [
            [
             0,
             "#000011"
            ],
            [
             0.1111111111111111,
             "#000012"
            ],
            [
             0.2222222222222222,
             "#000013"
            ],
            [
             0.3333333333333333,
             "#000014"
            ],
            [
             0.4444444444444444,
             "#000015"
            ],
            [
             0.5555555555555556,
             "#000016"
            ],
            [
             0.6666666666666666,
             "#000017"
            ],
            [
             0.7777777777777778,
             "#000018"
            ],
            [
             0.8888888888888888,
             "#000019"
            ],
            [
             1,
             "#000020"
            ]
           ],
           "sequentialminus": [
            [
             0,
             "#000011"
            ],
            [
             0.1111111111111111,
             "#000012"
            ],
            [
             0.2222222222222222,
             "#000013"
            ],
            [
             0.3333333333333333,
             "#000014"
            ],
            [
             0.4444444444444444,
             "#000015"
            ],
            [
             0.5555555555555556,
             "#000016"
            ],
            [
             0.6666666666666666,
             "#000017"
            ],
            [
             0.7777777777777778,
             "#000018"
            ],
            [
             0.8888888888888888,
             "#000019"
            ],
            [
             1,
             "#000020"
            ]
           ]
          },
          "colorway": [
           "#000001",
           "#000002",
           "#000003",
           "#000004",
           "#000005",
           "#000006",
           "#000007",
           "#000008",
           "#000009",
           "#000010"
          ]
         }
        },
        "title": {
         "text": "TRANSACTION COUNT"
        },
        "width": 600,
        "xaxis": {
         "anchor": "y",
         "domain": [
          0,
          1
         ],
         "title": {
          "text": "States"
         }
        },
        "yaxis": {
         "anchor": "x",
         "domain": [
          0,
          1
         ],
         "title": {
          "text": "Transaction_count"
         }
        }
       }
      }
     },
     "metadata": {},
     "output_type": "display_data"
    },
    {
     "data": {
      "application/vnd.plotly.v1+json": {
       "config": {
        "plotlyServerURL": "https://plot.ly"
       },
       "data": [
        {
         "alignmentgroup": "True",
         "hovertemplate": "<b>%{hovertext}</b><br><br>Transaction_count=%{x}<br>States=%{y}<extra></extra>",
         "hovertext": [
          "Lakshadweep",
          "Mizoram",
          "Ladakh",
          "Andaman & Nicobar",
          "Nagaland",
          "Sikkim",
          "Meghalaya",
          "Manipur",
          "Tripura",
          "Arunachal Pradesh",
          "Puducherry",
          "Dadra and  Nagar Haveli and  Daman and Diu",
          "Chandigarh",
          "Goa",
          "Himachal Pradesh",
          "Jammu & Kashmir",
          "Uttarakhand",
          "Punjab",
          "Assam",
          "Kerala",
          "Chhattisgarh",
          "Jharkhand",
          "Haryana",
          "Gujarat",
          "Tamil Nadu",
          "Odisha",
          "West Bengal",
          "Delhi",
          "Bihar",
          "Madhya Pradesh",
          "Rajasthan",
          "Uttar Pradesh",
          "Andhra Pradesh",
          "Telangana",
          "Karnataka",
          "Maharashtra"
         ],
         "legendgroup": "",
         "marker": {
          "color": "rgb(255,0,0)",
          "pattern": {
           "shape": ""
          }
         },
         "name": "",
         "offsetgroup": "",
         "orientation": "h",
         "showlegend": false,
         "textposition": "auto",
         "type": "bar",
         "x": [
          3526.5042,
          99968.176,
          171146.776,
          189684.616,
          274134.848,
          336334.952,
          410154.032,
          454691.976,
          621641.672,
          716035.088,
          955776.112,
          991322.64,
          1213420.192,
          1960399.936,
          2757526.448,
          3732857.728,
          7758858.944,
          9707219.36,
          10906613.016,
          13265739.472,
          19018404.96,
          21258036.152,
          34960101.512,
          35613231.72,
          43938734.096,
          46459694.4,
          47191734.824,
          47699109.136,
          53716756.328,
          75308509.68,
          90486465.68,
          92457751.768,
          100806060.136,
          146598646.376,
          169701943.296,
          176000624.768
         ],
         "xaxis": "x",
         "y": [
          "Lakshadweep",
          "Mizoram",
          "Ladakh",
          "Andaman & Nicobar",
          "Nagaland",
          "Sikkim",
          "Meghalaya",
          "Manipur",
          "Tripura",
          "Arunachal Pradesh",
          "Puducherry",
          "Dadra and  Nagar Haveli and  Daman and Diu",
          "Chandigarh",
          "Goa",
          "Himachal Pradesh",
          "Jammu & Kashmir",
          "Uttarakhand",
          "Punjab",
          "Assam",
          "Kerala",
          "Chhattisgarh",
          "Jharkhand",
          "Haryana",
          "Gujarat",
          "Tamil Nadu",
          "Odisha",
          "West Bengal",
          "Delhi",
          "Bihar",
          "Madhya Pradesh",
          "Rajasthan",
          "Uttar Pradesh",
          "Andhra Pradesh",
          "Telangana",
          "Karnataka",
          "Maharashtra"
         ],
         "yaxis": "y"
        }
       ],
       "layout": {
        "barmode": "relative",
        "height": 650,
        "legend": {
         "tracegroupgap": 0
        },
        "template": {
         "data": {
          "candlestick": [
           {
            "decreasing": {
             "line": {
              "color": "#000033"
             }
            },
            "increasing": {
             "line": {
              "color": "#000032"
             }
            },
            "type": "candlestick"
           }
          ],
          "contour": [
           {
            "colorscale": [
             [
              0,
              "#000011"
             ],
             [
              0.1111111111111111,
              "#000012"
             ],
             [
              0.2222222222222222,
              "#000013"
             ],
             [
              0.3333333333333333,
              "#000014"
             ],
             [
              0.4444444444444444,
              "#000015"
             ],
             [
              0.5555555555555556,
              "#000016"
             ],
             [
              0.6666666666666666,
              "#000017"
             ],
             [
              0.7777777777777778,
              "#000018"
             ],
             [
              0.8888888888888888,
              "#000019"
             ],
             [
              1,
              "#000020"
             ]
            ],
            "type": "contour"
           }
          ],
          "contourcarpet": [
           {
            "colorscale": [
             [
              0,
              "#000011"
             ],
             [
              0.1111111111111111,
              "#000012"
             ],
             [
              0.2222222222222222,
              "#000013"
             ],
             [
              0.3333333333333333,
              "#000014"
             ],
             [
              0.4444444444444444,
              "#000015"
             ],
             [
              0.5555555555555556,
              "#000016"
             ],
             [
              0.6666666666666666,
              "#000017"
             ],
             [
              0.7777777777777778,
              "#000018"
             ],
             [
              0.8888888888888888,
              "#000019"
             ],
             [
              1,
              "#000020"
             ]
            ],
            "type": "contourcarpet"
           }
          ],
          "heatmap": [
           {
            "colorscale": [
             [
              0,
              "#000011"
             ],
             [
              0.1111111111111111,
              "#000012"
             ],
             [
              0.2222222222222222,
              "#000013"
             ],
             [
              0.3333333333333333,
              "#000014"
             ],
             [
              0.4444444444444444,
              "#000015"
             ],
             [
              0.5555555555555556,
              "#000016"
             ],
             [
              0.6666666666666666,
              "#000017"
             ],
             [
              0.7777777777777778,
              "#000018"
             ],
             [
              0.8888888888888888,
              "#000019"
             ],
             [
              1,
              "#000020"
             ]
            ],
            "type": "heatmap"
           }
          ],
          "histogram2d": [
           {
            "colorscale": [
             [
              0,
              "#000011"
             ],
             [
              0.1111111111111111,
              "#000012"
             ],
             [
              0.2222222222222222,
              "#000013"
             ],
             [
              0.3333333333333333,
              "#000014"
             ],
             [
              0.4444444444444444,
              "#000015"
             ],
             [
              0.5555555555555556,
              "#000016"
             ],
             [
              0.6666666666666666,
              "#000017"
             ],
             [
              0.7777777777777778,
              "#000018"
             ],
             [
              0.8888888888888888,
              "#000019"
             ],
             [
              1,
              "#000020"
             ]
            ],
            "type": "histogram2d"
           }
          ],
          "icicle": [
           {
            "textfont": {
             "color": "white"
            },
            "type": "icicle"
           }
          ],
          "sankey": [
           {
            "textfont": {
             "color": "#000036"
            },
            "type": "sankey"
           }
          ],
          "scatter": [
           {
            "marker": {
             "line": {
              "width": 0
             }
            },
            "type": "scatter"
           }
          ],
          "table": [
           {
            "cells": {
             "fill": {
              "color": "#000038"
             },
             "font": {
              "color": "#000037"
             },
             "line": {
              "color": "#000039"
             }
            },
            "header": {
             "fill": {
              "color": "#000040"
             },
             "font": {
              "color": "#000036"
             },
             "line": {
              "color": "#000039"
             }
            },
            "type": "table"
           }
          ],
          "waterfall": [
           {
            "connector": {
             "line": {
              "color": "#000036",
              "width": 2
             }
            },
            "decreasing": {
             "marker": {
              "color": "#000033"
             }
            },
            "increasing": {
             "marker": {
              "color": "#000032"
             }
            },
            "totals": {
             "marker": {
              "color": "#000034"
             }
            },
            "type": "waterfall"
           }
          ]
         },
         "layout": {
          "coloraxis": {
           "colorscale": [
            [
             0,
             "#000011"
            ],
            [
             0.1111111111111111,
             "#000012"
            ],
            [
             0.2222222222222222,
             "#000013"
            ],
            [
             0.3333333333333333,
             "#000014"
            ],
            [
             0.4444444444444444,
             "#000015"
            ],
            [
             0.5555555555555556,
             "#000016"
            ],
            [
             0.6666666666666666,
             "#000017"
            ],
            [
             0.7777777777777778,
             "#000018"
            ],
            [
             0.8888888888888888,
             "#000019"
            ],
            [
             1,
             "#000020"
            ]
           ]
          },
          "colorscale": {
           "diverging": [
            [
             0,
             "#000021"
            ],
            [
             0.1,
             "#000022"
            ],
            [
             0.2,
             "#000023"
            ],
            [
             0.3,
             "#000024"
            ],
            [
             0.4,
             "#000025"
            ],
            [
             0.5,
             "#000026"
            ],
            [
             0.6,
             "#000027"
            ],
            [
             0.7,
             "#000028"
            ],
            [
             0.8,
             "#000029"
            ],
            [
             0.9,
             "#000030"
            ],
            [
             1,
             "#000031"
            ]
           ],
           "sequential": [
            [
             0,
             "#000011"
            ],
            [
             0.1111111111111111,
             "#000012"
            ],
            [
             0.2222222222222222,
             "#000013"
            ],
            [
             0.3333333333333333,
             "#000014"
            ],
            [
             0.4444444444444444,
             "#000015"
            ],
            [
             0.5555555555555556,
             "#000016"
            ],
            [
             0.6666666666666666,
             "#000017"
            ],
            [
             0.7777777777777778,
             "#000018"
            ],
            [
             0.8888888888888888,
             "#000019"
            ],
            [
             1,
             "#000020"
            ]
           ],
           "sequentialminus": [
            [
             0,
             "#000011"
            ],
            [
             0.1111111111111111,
             "#000012"
            ],
            [
             0.2222222222222222,
             "#000013"
            ],
            [
             0.3333333333333333,
             "#000014"
            ],
            [
             0.4444444444444444,
             "#000015"
            ],
            [
             0.5555555555555556,
             "#000016"
            ],
            [
             0.6666666666666666,
             "#000017"
            ],
            [
             0.7777777777777778,
             "#000018"
            ],
            [
             0.8888888888888888,
             "#000019"
            ],
            [
             1,
             "#000020"
            ]
           ]
          },
          "colorway": [
           "#000001",
           "#000002",
           "#000003",
           "#000004",
           "#000005",
           "#000006",
           "#000007",
           "#000008",
           "#000009",
           "#000010"
          ]
         }
        },
        "title": {
         "text": "TRANSACTION COUNT"
        },
        "width": 600,
        "xaxis": {
         "anchor": "y",
         "domain": [
          0,
          1
         ],
         "title": {
          "text": "Transaction_count"
         }
        },
        "yaxis": {
         "anchor": "x",
         "domain": [
          0,
          1
         ],
         "title": {
          "text": "States"
         }
        }
       }
      }
     },
     "metadata": {},
     "output_type": "display_data"
    }
   ],
   "source": [
    "top_chart_transaction_count(\"aggregated_transaction\")\n"
   ]
  },
  {
   "cell_type": "code",
   "execution_count": 9,
   "metadata": {},
   "outputs": [
    {
     "data": {
      "application/vnd.plotly.v1+json": {
       "config": {
        "plotlyServerURL": "https://plot.ly"
       },
       "data": [
        {
         "alignmentgroup": "True",
         "hovertemplate": "<b>%{hovertext}</b><br><br>States=%{x}<br>Transaction_amount=%{y}<extra></extra>",
         "hovertext": [
          "Telangana",
          "Maharashtra",
          "Karnataka",
          "Andhra Pradesh",
          "Rajasthan",
          "Uttar Pradesh",
          "Madhya Pradesh",
          "Bihar",
          "West Bengal",
          "Tamil Nadu"
         ],
         "legendgroup": "",
         "marker": {
          "color": "rgb(36, 86, 104)",
          "pattern": {
           "shape": ""
          }
         },
         "name": "",
         "offsetgroup": "",
         "orientation": "v",
         "showlegend": false,
         "textposition": "auto",
         "type": "bar",
         "x": [
          "Telangana",
          "Maharashtra",
          "Karnataka",
          "Andhra Pradesh",
          "Rajasthan",
          "Uttar Pradesh",
          "Madhya Pradesh",
          "Bihar",
          "West Bengal",
          "Tamil Nadu"
         ],
         "xaxis": "x",
         "y": [
          184704274108506,
          173776255448130,
          173007988199520,
          148850981149836,
          111485003646162,
          109496442582846,
          81487271706138,
          72811768984308,
          63714460093254,
          52875932414142
         ],
         "yaxis": "y"
        }
       ],
       "layout": {
        "barmode": "relative",
        "height": 650,
        "legend": {
         "tracegroupgap": 0
        },
        "template": {
         "data": {
          "candlestick": [
           {
            "decreasing": {
             "line": {
              "color": "#000033"
             }
            },
            "increasing": {
             "line": {
              "color": "#000032"
             }
            },
            "type": "candlestick"
           }
          ],
          "contour": [
           {
            "colorscale": [
             [
              0,
              "#000011"
             ],
             [
              0.1111111111111111,
              "#000012"
             ],
             [
              0.2222222222222222,
              "#000013"
             ],
             [
              0.3333333333333333,
              "#000014"
             ],
             [
              0.4444444444444444,
              "#000015"
             ],
             [
              0.5555555555555556,
              "#000016"
             ],
             [
              0.6666666666666666,
              "#000017"
             ],
             [
              0.7777777777777778,
              "#000018"
             ],
             [
              0.8888888888888888,
              "#000019"
             ],
             [
              1,
              "#000020"
             ]
            ],
            "type": "contour"
           }
          ],
          "contourcarpet": [
           {
            "colorscale": [
             [
              0,
              "#000011"
             ],
             [
              0.1111111111111111,
              "#000012"
             ],
             [
              0.2222222222222222,
              "#000013"
             ],
             [
              0.3333333333333333,
              "#000014"
             ],
             [
              0.4444444444444444,
              "#000015"
             ],
             [
              0.5555555555555556,
              "#000016"
             ],
             [
              0.6666666666666666,
              "#000017"
             ],
             [
              0.7777777777777778,
              "#000018"
             ],
             [
              0.8888888888888888,
              "#000019"
             ],
             [
              1,
              "#000020"
             ]
            ],
            "type": "contourcarpet"
           }
          ],
          "heatmap": [
           {
            "colorscale": [
             [
              0,
              "#000011"
             ],
             [
              0.1111111111111111,
              "#000012"
             ],
             [
              0.2222222222222222,
              "#000013"
             ],
             [
              0.3333333333333333,
              "#000014"
             ],
             [
              0.4444444444444444,
              "#000015"
             ],
             [
              0.5555555555555556,
              "#000016"
             ],
             [
              0.6666666666666666,
              "#000017"
             ],
             [
              0.7777777777777778,
              "#000018"
             ],
             [
              0.8888888888888888,
              "#000019"
             ],
             [
              1,
              "#000020"
             ]
            ],
            "type": "heatmap"
           }
          ],
          "histogram2d": [
           {
            "colorscale": [
             [
              0,
              "#000011"
             ],
             [
              0.1111111111111111,
              "#000012"
             ],
             [
              0.2222222222222222,
              "#000013"
             ],
             [
              0.3333333333333333,
              "#000014"
             ],
             [
              0.4444444444444444,
              "#000015"
             ],
             [
              0.5555555555555556,
              "#000016"
             ],
             [
              0.6666666666666666,
              "#000017"
             ],
             [
              0.7777777777777778,
              "#000018"
             ],
             [
              0.8888888888888888,
              "#000019"
             ],
             [
              1,
              "#000020"
             ]
            ],
            "type": "histogram2d"
           }
          ],
          "icicle": [
           {
            "textfont": {
             "color": "white"
            },
            "type": "icicle"
           }
          ],
          "sankey": [
           {
            "textfont": {
             "color": "#000036"
            },
            "type": "sankey"
           }
          ],
          "scatter": [
           {
            "marker": {
             "line": {
              "width": 0
             }
            },
            "type": "scatter"
           }
          ],
          "table": [
           {
            "cells": {
             "fill": {
              "color": "#000038"
             },
             "font": {
              "color": "#000037"
             },
             "line": {
              "color": "#000039"
             }
            },
            "header": {
             "fill": {
              "color": "#000040"
             },
             "font": {
              "color": "#000036"
             },
             "line": {
              "color": "#000039"
             }
            },
            "type": "table"
           }
          ],
          "waterfall": [
           {
            "connector": {
             "line": {
              "color": "#000036",
              "width": 2
             }
            },
            "decreasing": {
             "marker": {
              "color": "#000033"
             }
            },
            "increasing": {
             "marker": {
              "color": "#000032"
             }
            },
            "totals": {
             "marker": {
              "color": "#000034"
             }
            },
            "type": "waterfall"
           }
          ]
         },
         "layout": {
          "coloraxis": {
           "colorscale": [
            [
             0,
             "#000011"
            ],
            [
             0.1111111111111111,
             "#000012"
            ],
            [
             0.2222222222222222,
             "#000013"
            ],
            [
             0.3333333333333333,
             "#000014"
            ],
            [
             0.4444444444444444,
             "#000015"
            ],
            [
             0.5555555555555556,
             "#000016"
            ],
            [
             0.6666666666666666,
             "#000017"
            ],
            [
             0.7777777777777778,
             "#000018"
            ],
            [
             0.8888888888888888,
             "#000019"
            ],
            [
             1,
             "#000020"
            ]
           ]
          },
          "colorscale": {
           "diverging": [
            [
             0,
             "#000021"
            ],
            [
             0.1,
             "#000022"
            ],
            [
             0.2,
             "#000023"
            ],
            [
             0.3,
             "#000024"
            ],
            [
             0.4,
             "#000025"
            ],
            [
             0.5,
             "#000026"
            ],
            [
             0.6,
             "#000027"
            ],
            [
             0.7,
             "#000028"
            ],
            [
             0.8,
             "#000029"
            ],
            [
             0.9,
             "#000030"
            ],
            [
             1,
             "#000031"
            ]
           ],
           "sequential": [
            [
             0,
             "#000011"
            ],
            [
             0.1111111111111111,
             "#000012"
            ],
            [
             0.2222222222222222,
             "#000013"
            ],
            [
             0.3333333333333333,
             "#000014"
            ],
            [
             0.4444444444444444,
             "#000015"
            ],
            [
             0.5555555555555556,
             "#000016"
            ],
            [
             0.6666666666666666,
             "#000017"
            ],
            [
             0.7777777777777778,
             "#000018"
            ],
            [
             0.8888888888888888,
             "#000019"
            ],
            [
             1,
             "#000020"
            ]
           ],
           "sequentialminus": [
            [
             0,
             "#000011"
            ],
            [
             0.1111111111111111,
             "#000012"
            ],
            [
             0.2222222222222222,
             "#000013"
            ],
            [
             0.3333333333333333,
             "#000014"
            ],
            [
             0.4444444444444444,
             "#000015"
            ],
            [
             0.5555555555555556,
             "#000016"
            ],
            [
             0.6666666666666666,
             "#000017"
            ],
            [
             0.7777777777777778,
             "#000018"
            ],
            [
             0.8888888888888888,
             "#000019"
            ],
            [
             1,
             "#000020"
            ]
           ]
          },
          "colorway": [
           "#000001",
           "#000002",
           "#000003",
           "#000004",
           "#000005",
           "#000006",
           "#000007",
           "#000008",
           "#000009",
           "#000010"
          ]
         }
        },
        "title": {
         "text": "TRANSACTION_AMOUNT"
        },
        "width": 600,
        "xaxis": {
         "anchor": "y",
         "domain": [
          0,
          1
         ],
         "title": {
          "text": "States"
         }
        },
        "yaxis": {
         "anchor": "x",
         "domain": [
          0,
          1
         ],
         "title": {
          "text": "Transaction_amount"
         }
        }
       }
      }
     },
     "metadata": {},
     "output_type": "display_data"
    },
    {
     "data": {
      "application/vnd.plotly.v1+json": {
       "config": {
        "plotlyServerURL": "https://plot.ly"
       },
       "data": [
        {
         "alignmentgroup": "True",
         "hovertemplate": "<b>%{hovertext}</b><br><br>States=%{x}<br>Transaction_amount=%{y}<extra></extra>",
         "hovertext": [
          "Lakshadweep",
          "Mizoram",
          "Andaman & Nicobar",
          "Ladakh",
          "Sikkim",
          "Nagaland",
          "Meghalaya",
          "Dadra and  Nagar Haveli and  Daman and Diu",
          "Tripura",
          "Manipur"
         ],
         "legendgroup": "",
         "marker": {
          "color": "rgb(237, 239, 93)",
          "pattern": {
           "shape": ""
          }
         },
         "name": "",
         "offsetgroup": "",
         "orientation": "v",
         "showlegend": false,
         "textposition": "auto",
         "type": "bar",
         "x": [
          "Lakshadweep",
          "Mizoram",
          "Andaman & Nicobar",
          "Ladakh",
          "Sikkim",
          "Nagaland",
          "Meghalaya",
          "Dadra and  Nagar Haveli and  Daman and Diu",
          "Tripura",
          "Manipur"
         ],
         "xaxis": "x",
         "y": [
          6137659032,
          203511447684,
          280721298246,
          332169656298,
          506627719926,
          558631588890,
          658688417910,
          815286068724,
          840523355394,
          909806453106
         ],
         "yaxis": "y"
        }
       ],
       "layout": {
        "barmode": "relative",
        "height": 650,
        "legend": {
         "tracegroupgap": 0
        },
        "template": {
         "data": {
          "candlestick": [
           {
            "decreasing": {
             "line": {
              "color": "#000033"
             }
            },
            "increasing": {
             "line": {
              "color": "#000032"
             }
            },
            "type": "candlestick"
           }
          ],
          "contour": [
           {
            "colorscale": [
             [
              0,
              "#000011"
             ],
             [
              0.1111111111111111,
              "#000012"
             ],
             [
              0.2222222222222222,
              "#000013"
             ],
             [
              0.3333333333333333,
              "#000014"
             ],
             [
              0.4444444444444444,
              "#000015"
             ],
             [
              0.5555555555555556,
              "#000016"
             ],
             [
              0.6666666666666666,
              "#000017"
             ],
             [
              0.7777777777777778,
              "#000018"
             ],
             [
              0.8888888888888888,
              "#000019"
             ],
             [
              1,
              "#000020"
             ]
            ],
            "type": "contour"
           }
          ],
          "contourcarpet": [
           {
            "colorscale": [
             [
              0,
              "#000011"
             ],
             [
              0.1111111111111111,
              "#000012"
             ],
             [
              0.2222222222222222,
              "#000013"
             ],
             [
              0.3333333333333333,
              "#000014"
             ],
             [
              0.4444444444444444,
              "#000015"
             ],
             [
              0.5555555555555556,
              "#000016"
             ],
             [
              0.6666666666666666,
              "#000017"
             ],
             [
              0.7777777777777778,
              "#000018"
             ],
             [
              0.8888888888888888,
              "#000019"
             ],
             [
              1,
              "#000020"
             ]
            ],
            "type": "contourcarpet"
           }
          ],
          "heatmap": [
           {
            "colorscale": [
             [
              0,
              "#000011"
             ],
             [
              0.1111111111111111,
              "#000012"
             ],
             [
              0.2222222222222222,
              "#000013"
             ],
             [
              0.3333333333333333,
              "#000014"
             ],
             [
              0.4444444444444444,
              "#000015"
             ],
             [
              0.5555555555555556,
              "#000016"
             ],
             [
              0.6666666666666666,
              "#000017"
             ],
             [
              0.7777777777777778,
              "#000018"
             ],
             [
              0.8888888888888888,
              "#000019"
             ],
             [
              1,
              "#000020"
             ]
            ],
            "type": "heatmap"
           }
          ],
          "histogram2d": [
           {
            "colorscale": [
             [
              0,
              "#000011"
             ],
             [
              0.1111111111111111,
              "#000012"
             ],
             [
              0.2222222222222222,
              "#000013"
             ],
             [
              0.3333333333333333,
              "#000014"
             ],
             [
              0.4444444444444444,
              "#000015"
             ],
             [
              0.5555555555555556,
              "#000016"
             ],
             [
              0.6666666666666666,
              "#000017"
             ],
             [
              0.7777777777777778,
              "#000018"
             ],
             [
              0.8888888888888888,
              "#000019"
             ],
             [
              1,
              "#000020"
             ]
            ],
            "type": "histogram2d"
           }
          ],
          "icicle": [
           {
            "textfont": {
             "color": "white"
            },
            "type": "icicle"
           }
          ],
          "sankey": [
           {
            "textfont": {
             "color": "#000036"
            },
            "type": "sankey"
           }
          ],
          "scatter": [
           {
            "marker": {
             "line": {
              "width": 0
             }
            },
            "type": "scatter"
           }
          ],
          "table": [
           {
            "cells": {
             "fill": {
              "color": "#000038"
             },
             "font": {
              "color": "#000037"
             },
             "line": {
              "color": "#000039"
             }
            },
            "header": {
             "fill": {
              "color": "#000040"
             },
             "font": {
              "color": "#000036"
             },
             "line": {
              "color": "#000039"
             }
            },
            "type": "table"
           }
          ],
          "waterfall": [
           {
            "connector": {
             "line": {
              "color": "#000036",
              "width": 2
             }
            },
            "decreasing": {
             "marker": {
              "color": "#000033"
             }
            },
            "increasing": {
             "marker": {
              "color": "#000032"
             }
            },
            "totals": {
             "marker": {
              "color": "#000034"
             }
            },
            "type": "waterfall"
           }
          ]
         },
         "layout": {
          "coloraxis": {
           "colorscale": [
            [
             0,
             "#000011"
            ],
            [
             0.1111111111111111,
             "#000012"
            ],
            [
             0.2222222222222222,
             "#000013"
            ],
            [
             0.3333333333333333,
             "#000014"
            ],
            [
             0.4444444444444444,
             "#000015"
            ],
            [
             0.5555555555555556,
             "#000016"
            ],
            [
             0.6666666666666666,
             "#000017"
            ],
            [
             0.7777777777777778,
             "#000018"
            ],
            [
             0.8888888888888888,
             "#000019"
            ],
            [
             1,
             "#000020"
            ]
           ]
          },
          "colorscale": {
           "diverging": [
            [
             0,
             "#000021"
            ],
            [
             0.1,
             "#000022"
            ],
            [
             0.2,
             "#000023"
            ],
            [
             0.3,
             "#000024"
            ],
            [
             0.4,
             "#000025"
            ],
            [
             0.5,
             "#000026"
            ],
            [
             0.6,
             "#000027"
            ],
            [
             0.7,
             "#000028"
            ],
            [
             0.8,
             "#000029"
            ],
            [
             0.9,
             "#000030"
            ],
            [
             1,
             "#000031"
            ]
           ],
           "sequential": [
            [
             0,
             "#000011"
            ],
            [
             0.1111111111111111,
             "#000012"
            ],
            [
             0.2222222222222222,
             "#000013"
            ],
            [
             0.3333333333333333,
             "#000014"
            ],
            [
             0.4444444444444444,
             "#000015"
            ],
            [
             0.5555555555555556,
             "#000016"
            ],
            [
             0.6666666666666666,
             "#000017"
            ],
            [
             0.7777777777777778,
             "#000018"
            ],
            [
             0.8888888888888888,
             "#000019"
            ],
            [
             1,
             "#000020"
            ]
           ],
           "sequentialminus": [
            [
             0,
             "#000011"
            ],
            [
             0.1111111111111111,
             "#000012"
            ],
            [
             0.2222222222222222,
             "#000013"
            ],
            [
             0.3333333333333333,
             "#000014"
            ],
            [
             0.4444444444444444,
             "#000015"
            ],
            [
             0.5555555555555556,
             "#000016"
            ],
            [
             0.6666666666666666,
             "#000017"
            ],
            [
             0.7777777777777778,
             "#000018"
            ],
            [
             0.8888888888888888,
             "#000019"
            ],
            [
             1,
             "#000020"
            ]
           ]
          },
          "colorway": [
           "#000001",
           "#000002",
           "#000003",
           "#000004",
           "#000005",
           "#000006",
           "#000007",
           "#000008",
           "#000009",
           "#000010"
          ]
         }
        },
        "title": {
         "text": "TRANSACTION_AMOUNT"
        },
        "width": 600,
        "xaxis": {
         "anchor": "y",
         "domain": [
          0,
          1
         ],
         "title": {
          "text": "States"
         }
        },
        "yaxis": {
         "anchor": "x",
         "domain": [
          0,
          1
         ],
         "title": {
          "text": "Transaction_amount"
         }
        }
       }
      }
     },
     "metadata": {},
     "output_type": "display_data"
    },
    {
     "data": {
      "application/vnd.plotly.v1+json": {
       "config": {
        "plotlyServerURL": "https://plot.ly"
       },
       "data": [
        {
         "alignmentgroup": "True",
         "hovertemplate": "<b>%{hovertext}</b><br><br>Transaction_amount=%{x}<br>States=%{y}<extra></extra>",
         "hovertext": [
          "Lakshadweep",
          "Mizoram",
          "Andaman & Nicobar",
          "Ladakh",
          "Sikkim",
          "Nagaland",
          "Meghalaya",
          "Dadra and  Nagar Haveli and  Daman and Diu",
          "Tripura",
          "Manipur",
          "Arunachal Pradesh",
          "Puducherry",
          "Chandigarh",
          "Goa",
          "Himachal Pradesh",
          "Jammu & Kashmir",
          "Uttarakhand",
          "Punjab",
          "Kerala",
          "Assam",
          "Chhattisgarh",
          "Jharkhand",
          "Haryana",
          "Gujarat",
          "Odisha",
          "Delhi",
          "Tamil Nadu",
          "West Bengal",
          "Bihar",
          "Madhya Pradesh",
          "Uttar Pradesh",
          "Rajasthan",
          "Andhra Pradesh",
          "Karnataka",
          "Maharashtra",
          "Telangana"
         ],
         "legendgroup": "",
         "marker": {
          "color": "rgb(255,0,0)",
          "pattern": {
           "shape": ""
          }
         },
         "name": "",
         "offsetgroup": "",
         "orientation": "h",
         "showlegend": false,
         "textposition": "auto",
         "type": "bar",
         "x": [
          8596161.1092,
          271348596.912,
          374295064.328,
          442892875.064,
          675503626.568,
          744842118.52,
          878251223.88,
          1087048091.632,
          1120697807.192,
          1213075270.808,
          1424374043.528,
          1436597341.84,
          1884712326.384,
          2888721705.104,
          4058677441.728,
          6001600751.656,
          10940415981.704,
          17547207715.048,
          18418586717.288,
          19193110170.2,
          26559762453.504,
          31780881212.36,
          54275407408.536,
          57941719093.336,
          68931609837.224,
          69802709626.312,
          70501243218.856,
          84952613457.672,
          97082358645.744,
          108649695608.184,
          145995256777.128,
          148646671528.216,
          198467974866.448,
          230677317599.36,
          231701673930.84,
          246272365478.008
         ],
         "xaxis": "x",
         "y": [
          "Lakshadweep",
          "Mizoram",
          "Andaman & Nicobar",
          "Ladakh",
          "Sikkim",
          "Nagaland",
          "Meghalaya",
          "Dadra and  Nagar Haveli and  Daman and Diu",
          "Tripura",
          "Manipur",
          "Arunachal Pradesh",
          "Puducherry",
          "Chandigarh",
          "Goa",
          "Himachal Pradesh",
          "Jammu & Kashmir",
          "Uttarakhand",
          "Punjab",
          "Kerala",
          "Assam",
          "Chhattisgarh",
          "Jharkhand",
          "Haryana",
          "Gujarat",
          "Odisha",
          "Delhi",
          "Tamil Nadu",
          "West Bengal",
          "Bihar",
          "Madhya Pradesh",
          "Uttar Pradesh",
          "Rajasthan",
          "Andhra Pradesh",
          "Karnataka",
          "Maharashtra",
          "Telangana"
         ],
         "yaxis": "y"
        }
       ],
       "layout": {
        "barmode": "relative",
        "height": 650,
        "legend": {
         "tracegroupgap": 0
        },
        "template": {
         "data": {
          "candlestick": [
           {
            "decreasing": {
             "line": {
              "color": "#000033"
             }
            },
            "increasing": {
             "line": {
              "color": "#000032"
             }
            },
            "type": "candlestick"
           }
          ],
          "contour": [
           {
            "colorscale": [
             [
              0,
              "#000011"
             ],
             [
              0.1111111111111111,
              "#000012"
             ],
             [
              0.2222222222222222,
              "#000013"
             ],
             [
              0.3333333333333333,
              "#000014"
             ],
             [
              0.4444444444444444,
              "#000015"
             ],
             [
              0.5555555555555556,
              "#000016"
             ],
             [
              0.6666666666666666,
              "#000017"
             ],
             [
              0.7777777777777778,
              "#000018"
             ],
             [
              0.8888888888888888,
              "#000019"
             ],
             [
              1,
              "#000020"
             ]
            ],
            "type": "contour"
           }
          ],
          "contourcarpet": [
           {
            "colorscale": [
             [
              0,
              "#000011"
             ],
             [
              0.1111111111111111,
              "#000012"
             ],
             [
              0.2222222222222222,
              "#000013"
             ],
             [
              0.3333333333333333,
              "#000014"
             ],
             [
              0.4444444444444444,
              "#000015"
             ],
             [
              0.5555555555555556,
              "#000016"
             ],
             [
              0.6666666666666666,
              "#000017"
             ],
             [
              0.7777777777777778,
              "#000018"
             ],
             [
              0.8888888888888888,
              "#000019"
             ],
             [
              1,
              "#000020"
             ]
            ],
            "type": "contourcarpet"
           }
          ],
          "heatmap": [
           {
            "colorscale": [
             [
              0,
              "#000011"
             ],
             [
              0.1111111111111111,
              "#000012"
             ],
             [
              0.2222222222222222,
              "#000013"
             ],
             [
              0.3333333333333333,
              "#000014"
             ],
             [
              0.4444444444444444,
              "#000015"
             ],
             [
              0.5555555555555556,
              "#000016"
             ],
             [
              0.6666666666666666,
              "#000017"
             ],
             [
              0.7777777777777778,
              "#000018"
             ],
             [
              0.8888888888888888,
              "#000019"
             ],
             [
              1,
              "#000020"
             ]
            ],
            "type": "heatmap"
           }
          ],
          "histogram2d": [
           {
            "colorscale": [
             [
              0,
              "#000011"
             ],
             [
              0.1111111111111111,
              "#000012"
             ],
             [
              0.2222222222222222,
              "#000013"
             ],
             [
              0.3333333333333333,
              "#000014"
             ],
             [
              0.4444444444444444,
              "#000015"
             ],
             [
              0.5555555555555556,
              "#000016"
             ],
             [
              0.6666666666666666,
              "#000017"
             ],
             [
              0.7777777777777778,
              "#000018"
             ],
             [
              0.8888888888888888,
              "#000019"
             ],
             [
              1,
              "#000020"
             ]
            ],
            "type": "histogram2d"
           }
          ],
          "icicle": [
           {
            "textfont": {
             "color": "white"
            },
            "type": "icicle"
           }
          ],
          "sankey": [
           {
            "textfont": {
             "color": "#000036"
            },
            "type": "sankey"
           }
          ],
          "scatter": [
           {
            "marker": {
             "line": {
              "width": 0
             }
            },
            "type": "scatter"
           }
          ],
          "table": [
           {
            "cells": {
             "fill": {
              "color": "#000038"
             },
             "font": {
              "color": "#000037"
             },
             "line": {
              "color": "#000039"
             }
            },
            "header": {
             "fill": {
              "color": "#000040"
             },
             "font": {
              "color": "#000036"
             },
             "line": {
              "color": "#000039"
             }
            },
            "type": "table"
           }
          ],
          "waterfall": [
           {
            "connector": {
             "line": {
              "color": "#000036",
              "width": 2
             }
            },
            "decreasing": {
             "marker": {
              "color": "#000033"
             }
            },
            "increasing": {
             "marker": {
              "color": "#000032"
             }
            },
            "totals": {
             "marker": {
              "color": "#000034"
             }
            },
            "type": "waterfall"
           }
          ]
         },
         "layout": {
          "coloraxis": {
           "colorscale": [
            [
             0,
             "#000011"
            ],
            [
             0.1111111111111111,
             "#000012"
            ],
            [
             0.2222222222222222,
             "#000013"
            ],
            [
             0.3333333333333333,
             "#000014"
            ],
            [
             0.4444444444444444,
             "#000015"
            ],
            [
             0.5555555555555556,
             "#000016"
            ],
            [
             0.6666666666666666,
             "#000017"
            ],
            [
             0.7777777777777778,
             "#000018"
            ],
            [
             0.8888888888888888,
             "#000019"
            ],
            [
             1,
             "#000020"
            ]
           ]
          },
          "colorscale": {
           "diverging": [
            [
             0,
             "#000021"
            ],
            [
             0.1,
             "#000022"
            ],
            [
             0.2,
             "#000023"
            ],
            [
             0.3,
             "#000024"
            ],
            [
             0.4,
             "#000025"
            ],
            [
             0.5,
             "#000026"
            ],
            [
             0.6,
             "#000027"
            ],
            [
             0.7,
             "#000028"
            ],
            [
             0.8,
             "#000029"
            ],
            [
             0.9,
             "#000030"
            ],
            [
             1,
             "#000031"
            ]
           ],
           "sequential": [
            [
             0,
             "#000011"
            ],
            [
             0.1111111111111111,
             "#000012"
            ],
            [
             0.2222222222222222,
             "#000013"
            ],
            [
             0.3333333333333333,
             "#000014"
            ],
            [
             0.4444444444444444,
             "#000015"
            ],
            [
             0.5555555555555556,
             "#000016"
            ],
            [
             0.6666666666666666,
             "#000017"
            ],
            [
             0.7777777777777778,
             "#000018"
            ],
            [
             0.8888888888888888,
             "#000019"
            ],
            [
             1,
             "#000020"
            ]
           ],
           "sequentialminus": [
            [
             0,
             "#000011"
            ],
            [
             0.1111111111111111,
             "#000012"
            ],
            [
             0.2222222222222222,
             "#000013"
            ],
            [
             0.3333333333333333,
             "#000014"
            ],
            [
             0.4444444444444444,
             "#000015"
            ],
            [
             0.5555555555555556,
             "#000016"
            ],
            [
             0.6666666666666666,
             "#000017"
            ],
            [
             0.7777777777777778,
             "#000018"
            ],
            [
             0.8888888888888888,
             "#000019"
            ],
            [
             1,
             "#000020"
            ]
           ]
          },
          "colorway": [
           "#000001",
           "#000002",
           "#000003",
           "#000004",
           "#000005",
           "#000006",
           "#000007",
           "#000008",
           "#000009",
           "#000010"
          ]
         }
        },
        "title": {
         "text": "TRANSACTION_AMOUNT"
        },
        "width": 600,
        "xaxis": {
         "anchor": "y",
         "domain": [
          0,
          1
         ],
         "title": {
          "text": "Transaction_amount"
         }
        },
        "yaxis": {
         "anchor": "x",
         "domain": [
          0,
          1
         ],
         "title": {
          "text": "States"
         }
        }
       }
      }
     },
     "metadata": {},
     "output_type": "display_data"
    }
   ],
   "source": [
    "top_chart_transaction_amount(\"aggregated_transaction\")\n"
   ]
  },
  {
   "cell_type": "code",
   "execution_count": 132,
   "metadata": {},
   "outputs": [],
   "source": [
    "#Transaction year based function\n",
    "def Transaction_amount_count_y(df,year):\n",
    "    transc_accnt_amnt_year=df[df[\"years\"] == year]\n",
    "    transc_accnt_amnt_year.reset_index(drop=True,inplace=True)\n",
    "\n",
    "    transc_accnt_amnt_year_group=transc_accnt_amnt_year.groupby(\"States\")[[\"Transaction_count\",\"Transaction_amount\"]].sum()\n",
    "    transc_accnt_amnt_year_group.reset_index(inplace=True)\n",
    "\n",
    "    fig_amount=px.bar(transc_accnt_amnt_year_group,x=\"States\",y=\"Transaction_amount\",title=f\"{year} TRANSACTION_AMOUNT\",\n",
    "                    color_discrete_sequence=px.colors.sequential.Aggrnyl,height=650,width=600)\n",
    "\n",
    "    fig_amount.show()\n",
    "\n",
    "    \n",
    "\n",
    "    fig_count=px.bar(transc_accnt_amnt_year_group,x=\"States\",y=\"Transaction_count\",title=f\"{year} TRANSACTION_COUNT\",\n",
    "                    color_discrete_sequence=px.colors.sequential.Bluered_r,height=650,width=600)\n",
    "    \n",
    "    fig_count.show()\n",
    "\n",
    "    url=\"https://gist.githubusercontent.com/jbrobst/56c13bbbf9d97d187fea01ca62ea5112/raw/e388c4cae20aa53cb5090210a42ebb9b765c0a36/india_states.geojson\"\n",
    "    response=requests.get(url)\n",
    "    data1=json.loads(response.content)\n",
    "    states_name=[]\n",
    "    for Feature in data1['features']:\n",
    "        states_name.append(Feature[\"properties\"][\"ST_NM\"])\n",
    "\n",
    "    states_name.sort()\n",
    "\n",
    "    fig_india_1=px.choropleth(transc_accnt_amnt_year_group,geojson=data1,locations=\"States\",featureidkey=\"properties.ST_NM\",\n",
    "    color=\"Transaction_amount\",color_continuous_scale=\"Rainbow\",\n",
    "    range_color=(transc_accnt_amnt_year_group['Transaction_amount'].min(),transc_accnt_amnt_year_group['Transaction_amount'].max()),\n",
    "    hover_name=\"States\",title= f\"{year}  TRANSACTION AMOUNT\",fitbounds=\"locations\",\n",
    "    height=600,width=550)\n",
    "    \n",
    "    fig_india_1.update_geos(visible=False)\n",
    "    fig_india_1.show()\n",
    "\n",
    "\n",
    "    fig_india_2=px.choropleth(transc_accnt_amnt_year_group,geojson=data1,locations=\"States\",featureidkey=\"properties.ST_NM\",\n",
    "    color=\"Transaction_count\",color_continuous_scale=\"Rainbow\",\n",
    "    range_color=(transc_accnt_amnt_year_group['Transaction_count'].min(),transc_accnt_amnt_year_group['Transaction_count'].max()),\n",
    "    hover_name=\"States\",title= f\"{year}  TRANSACTION COUNT\",fitbounds=\"locations\",\n",
    "    height=600,width=550)\n",
    "    \n",
    "    fig_india_2.update_geos(visible=False)\n",
    "    fig_india_2.show()\n",
    "\n",
    "    return transc_accnt_amnt_year\n",
    "\n",
    "\n",
    "\n",
    "\n"
   ]
  },
  {
   "cell_type": "code",
   "execution_count": 133,
   "metadata": {},
   "outputs": [],
   "source": [
    "##Transaction quarter based function\n",
    "\n",
    "def Transaction_amount_count_y_Q(df,quarter):\n",
    "    transc_accnt_amnt_year=df[df[\"Quarter\"] == quarter]\n",
    "    transc_accnt_amnt_year.reset_index(drop=True,inplace=True)\n",
    "\n",
    "    transc_accnt_amnt_year_group=transc_accnt_amnt_year.groupby(\"States\")[[\"Transaction_count\",\"Transaction_amount\"]].sum()\n",
    "    transc_accnt_amnt_year_group.reset_index(inplace=True)\n",
    "\n",
    "    fig_amount=px.bar(transc_accnt_amnt_year_group, x=\"States\",y=\"Transaction_amount\",title=f\"{transc_accnt_amnt_year['years'].min()} YEAR {quarter} QUARTER TRANSACTION AMOUNT\",\n",
    "                      color_discrete_sequence=px.colors.sequential.Aggrnyl,height=650,width=600)\n",
    "\n",
    "    fig_amount.show()  \n",
    "\n",
    "\n",
    "\n",
    "    fig_count=px.bar(transc_accnt_amnt_year_group, x=\"States\", y=\"Transaction_count\",title=f\"{transc_accnt_amnt_year['years'].min()}YEAR {quarter} QUARTER TRANSACTION_COUNT\",\n",
    "                     color_discrete_sequence=px.colors.sequential.Bluered_r,height=650,width=600)\n",
    "\n",
    "    fig_count.show()\n",
    "\n",
    "    url=\"https://gist.githubusercontent.com/jbrobst/56c13bbbf9d97d187fea01ca62ea5112/raw/e388c4cae20aa53cb5090210a42ebb9b765c0a36/india_states.geojson\"\n",
    "    response=requests.get(url)\n",
    "    data1=json.loads(response.content)\n",
    "    states_name=[]\n",
    "    for Feature in data1['features']:\n",
    "        states_name.append(Feature[\"properties\"][\"ST_NM\"])\n",
    "\n",
    "    states_name.sort()\n",
    "\n",
    "    fig_india_1=px.choropleth(transc_accnt_amnt_year_group,geojson=data1,locations=\"States\",featureidkey=\"properties.ST_NM\",\n",
    "    color=\"Transaction_amount\",color_continuous_scale=\"Rainbow\",\n",
    "    range_color=(transc_accnt_amnt_year_group['Transaction_amount'].min(),transc_accnt_amnt_year_group['Transaction_amount'].max()),\n",
    "    hover_name=\"States\",title= f\"{transc_accnt_amnt_year['years'].min()} YEAR {quarter} QUARTER TRANSACTION AMOUNT\",fitbounds=\"locations\",\n",
    "    height=600,width=550)\n",
    "\n",
    "    fig_india_1.update_geos(visible=False)\n",
    "    fig_india_1.show()\n",
    "\n",
    "\n",
    "    fig_india_2=px.choropleth(transc_accnt_amnt_year_group,geojson=data1,locations=\"States\",featureidkey=\"properties.ST_NM\",\n",
    "    color=\"Transaction_count\",color_continuous_scale=\"Rainbow\",\n",
    "    range_color=(transc_accnt_amnt_year_group['Transaction_count'].min(),transc_accnt_amnt_year_group['Transaction_count'].max()),\n",
    "    hover_name=\"States\",title= f\"{transc_accnt_amnt_year['years'].min()} YEAR {quarter} QUARTER TRANSACTION COUNT\",fitbounds=\"locations\",\n",
    "    height=600,width=550)\n",
    "\n",
    "    fig_india_2.update_geos(visible=False)\n",
    "    fig_india_2.show()\n",
    "\n",
    "    return transc_accnt_amnt_year\n",
    "\n",
    "\n",
    "\n",
    "\n",
    "\n"
   ]
  },
  {
   "cell_type": "code",
   "execution_count": 134,
   "metadata": {},
   "outputs": [],
   "source": [
    "#Transaction type function \n",
    "def aggre_Transc_type(df,state):\n",
    "\n",
    "    transc_accnt_amnt_year=df[df[\"States\"] == state]\n",
    "    transc_accnt_amnt_year.reset_index(drop=True, inplace=True)\n",
    "\n",
    "    transc_accnt_amnt_year_group=transc_accnt_amnt_year.groupby(\"Transaction_type\")[[\"Transaction_count\",\"Transaction_amount\"]].sum()\n",
    "    transc_accnt_amnt_year_group.reset_index(inplace=True)\n",
    "\n",
    "    fig_pie_1=px.pie(data_frame=transc_accnt_amnt_year_group, names=\"Transaction_type\",values=\"Transaction_amount\",\n",
    "                    width=600,title=f\"{state.upper()} TRANSACTION AMOUNT\",hole=0.5)\n",
    "    fig_pie_1.show()\n",
    "\n",
    "    fig_pie_2=px.pie(data_frame=transc_accnt_amnt_year_group, names=\"Transaction_type\",values=\"Transaction_count\",\n",
    "                    width=600,title=f\"{state.upper()}TRANSACTION COUNT\",hole=0.5)\n",
    "    fig_pie_2.show()\n",
    "\n",
    "\n",
    "\n"
   ]
  },
  {
   "cell_type": "code",
   "execution_count": 135,
   "metadata": {},
   "outputs": [],
   "source": [
    "#aggregate_user_years analysis\n",
    "def aggre_user_plot_1(df,year):\n",
    "    agg_user_yr=df[df[\"years\"]==year]\n",
    "    agg_user_yr.reset_index(drop=True,inplace=True)\n",
    "\n",
    "    agg_user_yr_grp=pd.DataFrame(agg_user_yr.groupby(\"Brands\")[\"Transaction_count\"].sum())\n",
    "    agg_user_yr_grp.reset_index(inplace=True)\n",
    "    agg_user_yr_grp\n",
    "\n",
    "    fig_bar_1=px.bar(agg_user_yr_grp, x=\"Brands\", y=\"Transaction_count\", title=f\"{year} BRANDS AND TRANSACTION COUNT\",width=800,color_discrete_sequence=px.colors.sequential.haline_r,hover_name=\"Brands\")\n",
    "    fig_bar_1.show()\n",
    "\n",
    "    return agg_user_yr\n"
   ]
  },
  {
   "cell_type": "code",
   "execution_count": 136,
   "metadata": {},
   "outputs": [],
   "source": [
    "#aggregate_user_quarter anlysis\n",
    "def aggr_user_plot2(df,quarter):\n",
    "    agg_user_yr_qrtr=df[df[\"Quarter\"]==quarter]\n",
    "    agg_user_yr_qrtr.reset_index(drop=True,inplace=True)\n",
    "\n",
    "    agg_user_yr_qrtr_grp=pd.DataFrame(agg_user_yr_qrtr.groupby(\"Brands\")[\"Transaction_count\"].sum())\n",
    "    agg_user_yr_qrtr_grp.reset_index(inplace=True)\n",
    "    agg_user_yr_qrtr_grp\n",
    "\n",
    "\n",
    "    fig_bar_1=px.bar(agg_user_yr_qrtr_grp, x=\"Brands\", y=\"Transaction_count\", title=f\"{quarter}QUARTER, BRANDS AND TRANSACTION COUNT\",width=800,color_discrete_sequence=px.colors.sequential.haline_r,hover_name=\"Brands\")\n",
    "    fig_bar_1.show()\n",
    "\n",
    "    return agg_user_yr_qrtr\n"
   ]
  },
  {
   "cell_type": "code",
   "execution_count": 137,
   "metadata": {},
   "outputs": [],
   "source": [
    "#agree_user- states function \n",
    "def aggr_user_plot3(df,state):\n",
    "    aggre_user_year_qrtr_state=df[df[\"States\"]==state]\n",
    "    aggre_user_year_qrtr_state.reset_index(drop=True,inplace=True)\n",
    "    aggre_user_year_qrtr_state\n",
    "\n",
    "    fig_line_1=px.line(aggre_user_year_qrtr_state, x=\"Brands\", y=\"Transaction_count\", hover_data=\"percentage\",\n",
    "                    title=f\"{state.upper()} BRANDS , TRANSACTION_COUNT , PERCENTAGE\",width=1000,markers=True)\n",
    "\n",
    "    fig_line_1.show()"
   ]
  },
  {
   "cell_type": "code",
   "execution_count": 138,
   "metadata": {},
   "outputs": [],
   "source": [
    "#map transaction  district analysis\n",
    "def map_district_Transc_type(df,state):\n",
    "\n",
    "    transc_accnt_amnt_year=df[df[\"States\"] == state]\n",
    "    transc_accnt_amnt_year.reset_index(drop=True, inplace=True)\n",
    "\n",
    "    transc_accnt_amnt_year_group=transc_accnt_amnt_year.groupby(\"Districts\")[[\"Transaction_count\",\"Transaction_amount\"]].sum()\n",
    "    transc_accnt_amnt_year_group.reset_index(inplace=True)\n",
    "\n",
    "    fig_bar_1=px.bar(data_frame=transc_accnt_amnt_year_group, x=\"Transaction_amount\",y=\"Districts\",orientation=\"h\",title=f\"{state.upper()} DISTRICT AND TRANSACTION AMOUNT\",color_discrete_sequence=px.colors.sequential.Mint_r)\n",
    "    fig_bar_1.show()\n",
    "\n",
    "    fig_bar_2=px.bar(data_frame=transc_accnt_amnt_year_group, x=\"Transaction_count\",y=\"Districts\",orientation=\"h\",title=f\"{state.upper()} DISTRICT AND TRANSACTION COUNT\",color_discrete_sequence=px.colors.sequential.Mint_r)\n",
    "    fig_bar_2.show()\n",
    "\n"
   ]
  },
  {
   "cell_type": "code",
   "execution_count": 139,
   "metadata": {},
   "outputs": [],
   "source": [
    "def map_user_plot_1(df, year):\n",
    "\n",
    "    map_user_year=df[df['years']==year]\n",
    "    map_user_year.reset_index(drop=True,inplace=True)\n",
    "\n",
    "    map_user_year_grp=map_user_year.groupby(\"States\")[[\"registeredUsers\",\"appOpens\"]].sum()\n",
    "    map_user_year_grp.reset_index(inplace=True) \n",
    "    \n",
    "\n",
    "    fig_line_1=px.line(map_user_year_grp, x=\"States\", y=[\"registeredUsers\",\"appOpens\"],\n",
    "                        title=f\"{year} REGISTERED USERS,APPOPENS\",width=1000,height=800,markers=True)\n",
    "\n",
    "    fig_line_1.show()\n",
    "\n",
    "    return map_user_year\n",
    "\n",
    "\n",
    "\n"
   ]
  },
  {
   "cell_type": "code",
   "execution_count": null,
   "metadata": {},
   "outputs": [],
   "source": []
  },
  {
   "cell_type": "code",
   "execution_count": 140,
   "metadata": {},
   "outputs": [],
   "source": [
    "def map_user_plot_2(df,quarter):\n",
    "    map_user_year_quarter=df[df['Quarter']==quarter]\n",
    "    map_user_year_quarter.reset_index(drop=True,inplace=True)\n",
    "\n",
    "    map_user_year_quarter_grp=map_user_year_quarter.groupby(\"States\")[[\"registeredUsers\",\"appOpens\"]].sum()\n",
    "    map_user_year_quarter_grp.reset_index(inplace=True) \n",
    "\n",
    "\n",
    "    fig_line_1=px.line(map_user_year_quarter_grp, x=\"States\", y=[\"registeredUsers\",\"appOpens\"],\n",
    "                        title=f\"{df['years'].min()} YEAR {quarter} QUARTER REGISTERED USERS,APPOPENS\",width=1000,height=800,markers=True,\n",
    "                        color_discrete_sequence=px.colors.sequential.Rainbow_r)\n",
    "    fig_line_1.show()\n",
    "\n",
    "    return map_user_year_quarter\n",
    "\n"
   ]
  },
  {
   "cell_type": "code",
   "execution_count": 141,
   "metadata": {},
   "outputs": [],
   "source": [
    "def map_user_plot_3(df,states):\n",
    "    map_user_year_quarter_state=df[df[\"States\"]==states]\n",
    "    map_user_year_quarter_state.reset_index(drop=True,inplace=True)\n",
    "\n",
    "\n",
    "    fig_map_user_bar_1=px.bar(map_user_year_quarter_state, x=\"registeredUsers\",y=\"Districts\",orientation=\"h\",title=f\"{states.upper()} REGISTERED USER\",height=800,                        \n",
    "                                color_discrete_sequence=px.colors.sequential.Rainbow_r)\n",
    "    \n",
    "    fig_map_user_bar_1.show()\n",
    "\n",
    "    fig_map_user_bar_2=px.bar(map_user_year_quarter_state, x=\"appOpens\",y=\"Districts\",orientation=\"h\",title=f\"{states.upper()} APPOPENS\",height=800,                        \n",
    "                                color_discrete_sequence=px.colors.sequential.Rainbow_r)\n",
    "\n",
    "    fig_map_user_bar_2.show()\n",
    "\n",
    "\n"
   ]
  },
  {
   "cell_type": "code",
   "execution_count": 142,
   "metadata": {},
   "outputs": [],
   "source": [
    "#Top transaction state analysis\n",
    "def top_transaction_plot_1(df,state):\n",
    "    top_user_year_states=df[df[\"States\"]==state]\n",
    "    top_user_year_states.reset_index(drop=True,inplace=True)\n",
    "\n",
    "    \n",
    "    fig_top_user_bar_1=px.bar(top_user_year_states, x=\"Quarter\",y=\"Transaction_amount\",hover_data=\"pincodes\",\n",
    "                            title=\"TRANSACTION AMOUNT\",height=800,color_discrete_sequence=px.colors.sequential.GnBu_r)\n",
    "        \n",
    "    fig_top_user_bar_1.show()\n",
    "\n",
    "    fig_top_user_bar_2=px.bar(top_user_year_states, x=\"Quarter\",y=\"Transaction_count\",hover_data=\"pincodes\",\n",
    "                            title=\"Transaction_count\",height=800,color_discrete_sequence=px.colors.sequential.Agsunset_r)\n",
    "        \n",
    "    fig_top_user_bar_2.show()\n",
    "\n",
    "\n",
    "\n",
    "\n",
    "\n"
   ]
  },
  {
   "cell_type": "code",
   "execution_count": 180,
   "metadata": {},
   "outputs": [],
   "source": [
    "#top_user year analysis\n",
    "def top_user_plot_1(df,year):\n",
    "    top_users_year=df[df[\"years\"]==year]\n",
    "    top_users_year.reset_index(drop=True,inplace=True)\n",
    "\n",
    "    top_users_year_grp=pd.DataFrame(top_users_year.groupby([\"States\",\"Quarter\"])[\"registeredUsers\"].sum())\n",
    "    top_users_year_grp.reset_index(inplace=True)\n",
    "\n",
    "    fig_top_plot_1=px.bar(top_users_year_grp,x=\"States\",y=\"registeredUsers\",color=\"Quarter\",width=1000, height=800,\n",
    "                        color_discrete_sequence=px.colors.sequential.Burgyl,hover_name=\"States\", \n",
    "                        title=f\"{year} REGISTERED USERS\")\n",
    "    fig_top_plot_1.show()\n",
    "\n",
    "    return top_users_year"
   ]
  },
  {
   "cell_type": "code",
   "execution_count": null,
   "metadata": {},
   "outputs": [],
   "source": [
    "#top_user_state analysis\n",
    "def top_user_plot_2(df,state):\n",
    "    top_user_year_state=df[df['States']==state]\n",
    "    top_user_year_state.reset_index(drop=True,inplace=True)\n",
    "\n",
    "    fig_top_plot_2=px.bar(top_user_year_state,x=\"Quarter\",y=\"registeredUsers\",title=\"REGISTEREDUSERS,PINCODES, QUARTERS\",\n",
    "                        width=1000, height=800, color=\"registeredUsers\", hover_data=\"pincodes\",\n",
    "                        color_continuous_scale= px.colors.sequential.Burgyl)\n",
    "    fig_top_plot_2.show()\n",
    "\n",
    "    return top_user_year_state"
   ]
  },
  {
   "cell_type": "markdown",
   "metadata": {},
   "source": [
    "### Aggregated_transaction\n",
    "\n"
   ]
  },
  {
   "cell_type": "code",
   "execution_count": null,
   "metadata": {},
   "outputs": [],
   "source": [
    "tranc_year=Transaction_amount_count_y(aggre_transaction, 2022)  \n"
   ]
  },
  {
   "cell_type": "code",
   "execution_count": null,
   "metadata": {},
   "outputs": [],
   "source": [
    "aggre_Transc_type(tranc_year,'Tamil Nadu')"
   ]
  },
  {
   "cell_type": "code",
   "execution_count": null,
   "metadata": {},
   "outputs": [],
   "source": [
    "tranc_year_quarter=Transaction_amount_count_y_Q(tranc_year,3)\n"
   ]
  },
  {
   "cell_type": "code",
   "execution_count": null,
   "metadata": {},
   "outputs": [],
   "source": [
    "aggre_Transc_type(tranc_year_quarter,'Tamil Nadu')"
   ]
  },
  {
   "cell_type": "markdown",
   "metadata": {},
   "source": [
    "### aggregated_User"
   ]
  },
  {
   "cell_type": "code",
   "execution_count": null,
   "metadata": {},
   "outputs": [],
   "source": [
    "aggre_user_year=aggre_user_plot_1(aggre_user,2020)"
   ]
  },
  {
   "cell_type": "code",
   "execution_count": null,
   "metadata": {},
   "outputs": [],
   "source": [
    "aggre_user_year_qrtr=aggr_user_plot2(aggre_user_year,2)"
   ]
  },
  {
   "cell_type": "code",
   "execution_count": null,
   "metadata": {},
   "outputs": [],
   "source": [
    "aggr_user_plot3(aggre_user_year_qrtr,\"Andaman & Nicobar\")"
   ]
  },
  {
   "cell_type": "markdown",
   "metadata": {},
   "source": [
    "### map_transaction"
   ]
  },
  {
   "cell_type": "code",
   "execution_count": null,
   "metadata": {},
   "outputs": [],
   "source": [
    "map_tranc_year=Transaction_amount_count_y(map_transaction, 2022)  \n",
    "\n"
   ]
  },
  {
   "cell_type": "code",
   "execution_count": null,
   "metadata": {},
   "outputs": [],
   "source": [
    "map_district_Transc_type(map_tranc_year,'Tamil Nadu')"
   ]
  },
  {
   "cell_type": "code",
   "execution_count": null,
   "metadata": {},
   "outputs": [],
   "source": [
    "map_tranc_year_quarter=Transaction_amount_count_y_Q(map_tranc_year,3)\n"
   ]
  },
  {
   "cell_type": "code",
   "execution_count": null,
   "metadata": {},
   "outputs": [],
   "source": [
    "map_district_Transc_type(map_tranc_year_quarter,'Tamil Nadu')"
   ]
  },
  {
   "cell_type": "markdown",
   "metadata": {},
   "source": [
    "### map_user"
   ]
  },
  {
   "cell_type": "code",
   "execution_count": null,
   "metadata": {},
   "outputs": [],
   "source": [
    "map_user_year=map_user_plot_1(map_user, 2022)\n"
   ]
  },
  {
   "cell_type": "code",
   "execution_count": null,
   "metadata": {},
   "outputs": [],
   "source": [
    "map_user_year_quarter=map_user_plot_2(map_user_year,3)\n"
   ]
  },
  {
   "cell_type": "code",
   "execution_count": null,
   "metadata": {},
   "outputs": [],
   "source": [
    "map_user_year_quarter_state=map_user_plot_3(map_user_year_quarter,'Tamil Nadu')"
   ]
  },
  {
   "cell_type": "markdown",
   "metadata": {},
   "source": [
    "### TOP transaction\n",
    "\n"
   ]
  },
  {
   "cell_type": "markdown",
   "metadata": {},
   "source": []
  },
  {
   "cell_type": "code",
   "execution_count": null,
   "metadata": {},
   "outputs": [],
   "source": [
    "top_tranc_year=Transaction_amount_count_y(top_transaction, 2022)\n",
    "\n"
   ]
  },
  {
   "cell_type": "code",
   "execution_count": null,
   "metadata": {},
   "outputs": [],
   "source": [
    "top_transc_year=top_transaction_plot_1(top_transaction,\"Tamil Nadu\")\n"
   ]
  },
  {
   "cell_type": "code",
   "execution_count": null,
   "metadata": {},
   "outputs": [],
   "source": [
    "top_tranc_year_quarter=Transaction_amount_count_y_Q(top_tranc_year,3)\n"
   ]
  },
  {
   "cell_type": "markdown",
   "metadata": {},
   "source": [
    "### Top users"
   ]
  },
  {
   "cell_type": "code",
   "execution_count": null,
   "metadata": {},
   "outputs": [],
   "source": [
    "top_user_year=top_user_plot_1(top_users,2022)\n"
   ]
  },
  {
   "cell_type": "code",
   "execution_count": null,
   "metadata": {},
   "outputs": [],
   "source": [
    "top_user_year_state=top_user_plot_2(top_user_year,\"Andaman & Nicobar\")\n"
   ]
  }
 ],
 "metadata": {
  "kernelspec": {
   "display_name": "Python 3",
   "language": "python",
   "name": "python3"
  },
  "language_info": {
   "codemirror_mode": {
    "name": "ipython",
    "version": 3
   },
   "file_extension": ".py",
   "mimetype": "text/x-python",
   "name": "python",
   "nbconvert_exporter": "python",
   "pygments_lexer": "ipython3",
   "version": "3.12.3"
  }
 },
 "nbformat": 4,
 "nbformat_minor": 2
}
